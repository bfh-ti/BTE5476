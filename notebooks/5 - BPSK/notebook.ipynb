{
 "cells": [
  {
   "cell_type": "markdown",
   "id": "4c146887-ed59-499c-b433-72c635243980",
   "metadata": {
    "editable": true,
    "slideshow": {
     "slide_type": ""
    },
    "tags": []
   },
   "source": [
    "<div style=\"margin: 0 auto 10px; height: 70px; border: 2px solid gray; border-radius: 6px;\">\n",
    "  <div style=\"float: left; margin: 5px 10px 5px 10px; \"><img src=\"img/bfh.jpg\" /></div>\n",
    "  <div style=\"float: right; margin: 20px 30px 0; font-size: 15pt; font-weight: bold; color: #98b7d2;\"><a href=\"https://moodle.bfh.ch/course/view.php?id=39255\" style=\"color: #98b7d2;\">BTE5476 - Project-Oriented Digital Signal Processing </a></div>\n",
    "</div>\n",
    "<div style=\"clear: both; font-size: 30pt; font-weight: bold; color: #64788b; margin-left: 30px;\">\n",
    "    BPSK\n",
    "</div>"
   ]
  },
  {
   "cell_type": "code",
   "execution_count": 20,
   "id": "a689d7d8-b1e3-4551-b035-594fc6a5f4e9",
   "metadata": {},
   "outputs": [],
   "source": [
    "%matplotlib inline\n",
    "import matplotlib\n",
    "import matplotlib.pyplot as plt\n",
    "import numpy as np\n",
    "import scipy.signal as sp\n",
    "import IPython\n",
    "from scipy.io import wavfile\n",
    "import random\n",
    "import string"
   ]
  },
  {
   "cell_type": "code",
   "execution_count": 21,
   "id": "786dcfc5-4dff-4ac3-a45d-8c1c68c96506",
   "metadata": {},
   "outputs": [],
   "source": [
    "plt.rcParams[\"figure.figsize\"] = (9,2.5)"
   ]
  },
  {
   "cell_type": "markdown",
   "id": "0ce79bb8-7428-4597-a687-346ccec4edac",
   "metadata": {},
   "source": [
    "The following functions were originally defined in the notebooks on biquad filters."
   ]
  },
  {
   "cell_type": "code",
   "execution_count": 23,
   "id": "2998f60c-0198-4e96-900c-7ba5ac5b8891",
   "metadata": {},
   "outputs": [],
   "source": [
    "def LPF(fc, sf, Q=(1/np.sqrt(2))):\n",
    "    \"\"\"Biquad lowpass filter\"\"\"\n",
    "    w = 2 * np.pi * fc / sf\n",
    "    alpha = np.sin(w) / (2 * Q)\n",
    "    c = np.cos(w)\n",
    "    a = np.array([1 + alpha, -2 * c, 1 - alpha])\n",
    "    b = np.array([(1 - c) / 2, 1 - c, (1 - c) / 2])\n",
    "    return b / a[0], a / a[0]"
   ]
  },
  {
   "cell_type": "code",
   "execution_count": 24,
   "id": "49e22a9f-a7d6-45d1-9968-9136437c113f",
   "metadata": {},
   "outputs": [],
   "source": [
    "Fs = 16000  # default sampling rate for the examples in the notebook"
   ]
  },
  {
   "cell_type": "markdown",
   "id": "f8ee6fbf-201b-4d08-999b-5ae12fcba6a7",
   "metadata": {},
   "source": [
    "# Binary Phase Shift Keying\n",
    "\n",
    "In our previous lecture we looked at how to use an instantaneous phase reversal in a sinusoidal carrier to transmit a synchronization pulse. In that case, a single phase reversal was used to convey timing information (e.g. a \"start\" signal); but, if we knew in advance when one or more phase reversals were going to happen, their presence or absence would correspond to one bit of information each. This is the idea behind BPSK communications."
   ]
  },
  {
   "cell_type": "markdown",
   "id": "a48f1dff-0589-4e63-abc5-056a6e5a5410",
   "metadata": {},
   "source": [
    "## The BPSK signal\n",
    "\n",
    "A BPSK trasnmitter encodes a binary stream by looking at a new incoming bit every $T_B$ seconds and reversing the phase of a sinusoidal carrier if the new bit is different than the previous one (this is called _differential encoding_).\n",
    "\n",
    " * $f_c$ is the frequency of the carrier\n",
    " * $B$ is the rate of the transmitter in bits per second (bps); $T_B = 1/B$ is called the _symbol interval_\n",
    "\n",
    "Given a sequence of binary digits $b[n]$, an analog BPSK transmitter would output the signal\n",
    "\n",
    "$$\n",
    "    x(t) = 2\\left(b\\left[\\, \\lfloor t / B \\rfloor \\,\\right] - 1/2\\right)\\,\\cos(2\\pi f_c t)\n",
    "$$\n",
    "\n",
    "<div style=\"margin: 50px 0 0 50px;\"><img src=\"img/bpsk.png\" width=\"600\"></div>"
   ]
  },
  {
   "cell_type": "markdown",
   "id": "6a10ca57-3cbc-4d63-9b1a-e5cfaa391d58",
   "metadata": {},
   "source": [
    "## Syncrhonous BPSK\n",
    "\n",
    "Usually, a BPSK transmitter is designed to be _synchronous_, that is we choose $f_c = PB$ with $P$ a positive integer; since $T_B = P(1/f_c)$, this means that **the symbol interval will span exactly an integer number of carrier periods.** This choice will simplify the implementation of the receiver, as we will see."
   ]
  },
  {
   "cell_type": "markdown",
   "id": "4e089ba5-22e1-44c3-af3b-a1b587ca5dcf",
   "metadata": {},
   "source": [
    "# The Data Link\n",
    "\n",
    "The user data must first be converted to a binary stream suitable to BPSK trasmission and this is performed by a _data link layer_ module. Here we assume that the user data is a sequence of 8-bit bytes, typically a sequence of ASCII characters. The data link layer defines an _escape byte_ (or sync word), a special 8-bit value that will never appear in the data payload; the transmitted bistream is built as follows:\n",
    "\n",
    " * first, a synchronization burst of several sync words is sent\n",
    " * the user data is sent one bit at a time; if the sync word is going to appear in the sequence, a _stuffing bit_ is inserted to prevent it\n",
    " * periodically, a sync word is inserted to provide points of recovery in case of decoding errors.\n",
    "\n",
    "The implementation here below is inspired by the [HDLC](https://en.wikipedia.org/wiki/High-Level_Data_Link_Control) standard, which is the data link layer for USB.\n",
    "\n",
    "Note that, for reasons that will be apparent when we look at the receiver, in BPSK the bit stream is sent _differentially encoded_, that is, we send a 1 when there is a _transition_ in the bitstream (the current bit is different from the previous one) and a -1 otherwise. Differential encoding and decoding is easily performed via a XOR operation."
   ]
  },
  {
   "cell_type": "code",
   "execution_count": 33,
   "id": "bf87ff7d-3598-4f81-ae4b-bd9d304baf72",
   "metadata": {},
   "outputs": [],
   "source": [
    "class DataLink:\n",
    "    WAIT_SYNC, WAIT_START, DECODE, SKIP_1, SKIP_2 = 0, 1, 2, 3, 4\n",
    "    \n",
    "    def __init__(self):\n",
    "        self.MAX_ONES, self.SYNC_WORD = 5, self.char2bits(chr(0b01111110))\n",
    "        self.START_SYNCS = 5\n",
    "        self.FRAME_SIZE = 10 # bytes\n",
    "        self.last_bit = False\n",
    "        self.reset()\n",
    "\n",
    "    @classmethod\n",
    "    def char2bits(cls, c):\n",
    "        return np.array([ b == '1' for b in format(ord(c), '08b') ])\n",
    "    \n",
    "    @classmethod\n",
    "    def bits2char(cls, b):\n",
    "        return chr(np.uint8(b @ [128, 64, 32, 16, 8, 4, 2, 1]))\n",
    "    \n",
    "    def encode_message(self, text, repeat=1, preamble=0):\n",
    "        self.count, self.ones = 0, 0\n",
    "        ret = np.tile(self.SYNC_WORD, preamble) \n",
    "        \n",
    "        for i in range(0, repeat):\n",
    "            ret = np.r_[ ret, np.tile(self.SYNC_WORD, self.START_SYNCS + 1) ]\n",
    "            for c in text:\n",
    "                self.count += 1\n",
    "                if self.count >= self.FRAME_SIZE:\n",
    "                    ret = np.r_[ ret, self.SYNC_WORD ]\n",
    "                    self.count, self.ones = 0, 0\n",
    "\n",
    "                for b in self.char2bits(c):\n",
    "                    ret = np.r_[ ret , b ]\n",
    "                    self.ones = self.ones + 1 if b else 0\n",
    "                    if self.ones == self.MAX_ONES:\n",
    "                        ret = np.r_[ ret , False ]  # bit stuffing\n",
    "                        self.ones = 0  \n",
    "\n",
    "        # append a \"wrong\" sync word to stop the receiver\n",
    "        ret = np.r_[ ret, self.SYNC_WORD, self.SYNC_WORD[:-1], True ]\n",
    "        \n",
    "        # differential encoding via XOR\n",
    "        for n in range (1, len(ret)):\n",
    "            ret[n] = ret[n] != ret[n-1]\n",
    "        return ret\n",
    "\n",
    "    def reset(self):\n",
    "        self.count, self.ones, self.syncs = 0, 0, 0\n",
    "        self.buf = np.full(8, False)\n",
    "        self.state, self.resume = self.WAIT_SYNC, self.WAIT_START\n",
    "        \n",
    "    def decode_stream(self, bits, reset=False):        \n",
    "        if reset:\n",
    "            self.reset()\n",
    "        \n",
    "        ret = ''\n",
    "        for bit in bits:\n",
    "            # differential decoding via XOR\n",
    "            b = self.last_bit != bit\n",
    "            self.last_bit = bit\n",
    "                \n",
    "            if self.state == self.SKIP_1:\n",
    "                # if we're here, either there's a stuffed bit or a new sync word\n",
    "                self.state = self.SKIP_2 if b else self.DECODE\n",
    "                continue\n",
    "            elif self.state == self.SKIP_2:\n",
    "                if b: # something's wrong, let's wait for the next start burst\n",
    "                    self.reset()\n",
    "                else:\n",
    "                    self.count = 0\n",
    "                    self.state = self.DECODE\n",
    "                continue\n",
    "\n",
    "            self.count += 1            \n",
    "            self.buf = np.r_[ self.buf[1:], b ]\n",
    "            self.ones = self.ones + 1 if b else 0\n",
    "                \n",
    "            if self.state == self.WAIT_SYNC:\n",
    "                if np.equal(self.buf, self.SYNC_WORD).all():\n",
    "                    self.count, self.ones, self.syncs = 0, 0, 0   \n",
    "                    self.state = self.resume\n",
    "                    \n",
    "            elif self.state == self.WAIT_START:\n",
    "                if self.count == 8:\n",
    "                    self.count = 0\n",
    "                    self.syncs = self.syncs + 1 if np.equal(self.buf, self.SYNC_WORD).all() else 0\n",
    "                if self.syncs >= self.START_SYNCS:\n",
    "                    self.count, self.ones, self.syncs = 0, 0, 0   \n",
    "                    self.state = self.resume = self.DECODE  \n",
    "                \n",
    "            else: # decoding\n",
    "                if self.count == 8:\n",
    "                    ret += self.bits2char(self.buf)\n",
    "                    self.count = 0\n",
    "                if self.ones == self.MAX_ONES: \n",
    "                    # remove stuffed bit or skip sync word\n",
    "                    self.ones = 0\n",
    "                    self.state = self.SKIP_1\n",
    "        return ret"
   ]
  },
  {
   "cell_type": "code",
   "execution_count": 35,
   "id": "f1299cd4-afac-46ad-aeb2-6a201dc64c5a",
   "metadata": {},
   "outputs": [],
   "source": [
    "msg = ''.join(chr(int(a)) for a in np.arange(48, 123)) + '\\n'\n",
    "\n",
    "dl = DataLink()\n",
    "dec = dl.decode_stream(dl.encode_message(msg, repeat=10, preamble=5))\n",
    "assert dec == msg * 10, \"there's a bug!\""
   ]
  },
  {
   "cell_type": "markdown",
   "id": "a249190f-501e-4b9b-8508-0c759a8b800d",
   "metadata": {},
   "source": [
    "# Digital design\n",
    "\n",
    "In a digital implementation of a synchronous BPSK transmitter (at a samping rate $F_s$) there are two constraints:\n",
    "\n",
    " * we want an integer number of samples per bit, that is, we want $F_s/B = K \\in \\mathbb{N}$; since the sampling rate is usually fixed, this will require adjusting the value of $B$ (which doesn't need to be an integer) by choosing a suitable $K$\n",
    " * we want the carrier to span an integer number of periods $P$ over a symbol interval, that is, $f_c = PB = (P/K)F_s$\n",
    "\n",
    "The following class prototype adjusts the values of $B$ and $f_c$ as needed:"
   ]
  },
  {
   "cell_type": "code",
   "execution_count": 37,
   "id": "1cfe67d6-0420-4262-b314-f94b049b07a3",
   "metadata": {},
   "outputs": [],
   "source": [
    "class BPSK:\n",
    "    Fs = 16000\n",
    "    CARRIER_HZ = 2000\n",
    "    BPS = 50\n",
    "    \n",
    "    def __init__(self, fc=CARRIER_HZ, bps=BPS, sf=Fs):\n",
    "        self.sf = sf\n",
    "        print(f'target values at Fs={sf} Hz: {bps} bits per second, {fc} Hz carrier')\n",
    "        # we want an integer number of samples per bit, so we adjust the other params accordingly\n",
    "        self.spb = int(sf / bps)       # samples per bit (K)\n",
    "        self.bps = sf / self.spb       # bits per second (B)\n",
    "        self.ppb = int(fc / self.bps)  # carrier periods per bit (P)\n",
    "        self.fc = self.ppb * self.bps  # adjusted carrier frequency\n",
    "        print(f'  best match: {self.bps:.2f} bits per second ({self.spb} samples per bit), {self.fc:.2f} Hz carrier ({self.ppb} periods per bit)')\n",
    "        self.wc = 2 * np.pi * self.fc / sf"
   ]
  },
  {
   "cell_type": "markdown",
   "id": "40f73813-42ce-49fe-8d0f-c9c367028d1b",
   "metadata": {},
   "source": [
    "If you want to change the default parameters you can:"
   ]
  },
  {
   "cell_type": "code",
   "execution_count": 40,
   "id": "d6eb2205-bf1a-489d-9138-0e44aded2676",
   "metadata": {},
   "outputs": [],
   "source": [
    "bpsk_params = {\n",
    "    'fc': 2000,\n",
    "    'bps': 274,\n",
    "    'sf': Fs\n",
    "}"
   ]
  },
  {
   "cell_type": "code",
   "execution_count": 42,
   "id": "eb67e7a8-5796-4fe7-96ff-aa370f1575a0",
   "metadata": {},
   "outputs": [],
   "source": [
    "BPSK(**bpsk_params);"
   ]
  },
  {
   "cell_type": "markdown",
   "id": "34dd7a41-72fd-4486-9d38-ac2c94ecc123",
   "metadata": {},
   "source": [
    "# The transmitter\n",
    "\n",
    "The following class will encode a string of ASCII characters into a BPSK signal of the form\n",
    "\n",
    "$$\n",
    "    x[n] = p[n]\\cos(\\omega_c n)\n",
    "$$\n",
    "\n",
    "where \n",
    "\n",
    "$$\n",
    "    p[n] = \\begin{cases}\n",
    "        +1 & b[m] = 1 \\\\\n",
    "        -1 & b[m] = 0 \n",
    "        \\end{cases} \\qquad m = \\lfloor n / K \\rfloor\n",
    "$$\n",
    "\n",
    "and $b[m]$ is the stream of differentially-encoded bits generated by the data link layer from an input string of 8-bit characters."
   ]
  },
  {
   "cell_type": "code",
   "execution_count": 46,
   "id": "a8f514f9-dce3-4fa3-abe6-1e8da81bc241",
   "metadata": {},
   "outputs": [],
   "source": [
    "class BPSK_TX(BPSK, DataLink):\n",
    "    def __init__(self, **kwargs):\n",
    "        super().__init__(**kwargs)\n",
    "        DataLink.__init__(self)\n",
    "\n",
    "    def transmit(self, message, gap_len_ms=25, **kwargs):\n",
    "        gap = np.zeros(int(self.sf / 1000 * gap_len_ms))\n",
    "        bits = 2 * (self.encode_message(message, **kwargs) - 0.5)\n",
    "        x = np.cos(self.wc * np.arange(0, len(bits) * self.spb)) * np.kron(bits, np.ones(self.spb))\n",
    "        return np.r_[ gap, x, gap ], bits"
   ]
  },
  {
   "cell_type": "code",
   "execution_count": 48,
   "id": "8abfafb6-d5ac-4150-9d27-cf99129c6b8f",
   "metadata": {},
   "outputs": [],
   "source": [
    "tx = BPSK_TX(bps=200)\n",
    "msg = 'Welcome to BTE5476. Today we will talk about BPSK.\\n'\n",
    "x, tx_bits = tx.transmit(msg, gap_len_ms=5.3, repeat=4)\n",
    "print(f'{len(tx_bits)} bits sent')"
   ]
  },
  {
   "cell_type": "code",
   "execution_count": 50,
   "id": "7137ee41-e020-418a-b32a-7124a7471bb4",
   "metadata": {},
   "outputs": [],
   "source": [
    "S = slice(200, 1000)\n",
    "plt.plot(x[S]);"
   ]
  },
  {
   "cell_type": "code",
   "execution_count": 52,
   "id": "ca3563bc-d757-4d79-8f35-11b99cb6b24a",
   "metadata": {},
   "outputs": [],
   "source": [
    "IPython.display.Audio(x, rate=tx.sf)"
   ]
  },
  {
   "cell_type": "code",
   "execution_count": 54,
   "id": "43b2d65d-153e-4998-8876-e5a732aa441d",
   "metadata": {},
   "outputs": [],
   "source": [
    "# uncomment this to save the audio file\n",
    "#wavfile.write(f'afsk{int(tx.bps)}.wav', tx.sf, np.array(32760 * x, dtype=np.int16))"
   ]
  },
  {
   "cell_type": "markdown",
   "id": "79a53c39-255e-46a5-80e4-8c0bb394b1eb",
   "metadata": {},
   "source": [
    "# The receiver\n",
    "\n",
    "If we had an exact copy of the carrier at the receiver (with the right frequency and phase), we would stard by demodulating the passband signal as \n",
    "\n",
    "$$\n",
    "  2x[n]\\cos(\\omega_c n) = 2p[n] \\cos^2(\\omega_c n) = p[n]1 + p[n]\\cos(2\\omega_c n)\n",
    "$$\n",
    "\n",
    "and then eliminate the component at $2\\omega_c$ with a lowpass filter to obtain the baseband signal $\\hat{p}[n]$. \n",
    "\n",
    "To recover the bitstream, if we know the exact time location of at least one of the phase reversals, call that $n_0$, we can simply check the sign of $\\hat{p}[n]$ in the middle of every successive symbol interval, that is,\n",
    "\n",
    "$$\n",
    "    b[m] = \\begin{cases}\n",
    "        1 & \\hat{p}[n_0 + \\lfloor K/2 \\rfloor + mK] \\ge 0 \\\\\n",
    "        0 & \\mathrm{otherwise}\n",
    "        \\end{cases}.\n",
    "$$\n",
    "\n",
    "\n",
    "In a practical scenario we will thus need:\n",
    "\n",
    " * to recover the carrier from the input signal using a PLL\n",
    " * to recover the symbol timing from the basesband signal;\n",
    "\n",
    "we will also need to pre-filter the received signal to eliminate the out the out-of-band additive noise and to adjust the input gain to make sure that the signal entering the demodulator has approximately unit amplitude."
   ]
  },
  {
   "cell_type": "markdown",
   "id": "86ad3ce5-49ed-455a-a9fe-e3abc0ae681b",
   "metadata": {},
   "source": [
    "## Carrier recovery\n",
    "\n",
    "BPSK carrier recovery is greatly simplified by the fact that if we square the incoming signal we can easily remove the data-dependent part:\n",
    "\n",
    "$$\n",
    "    |x[n]|^2 = p^2[n]\\cos^2(\\omega_c n) = \\cos^2(\\omega_c n) = \\frac{1}{2}\\cos(2\\omega_c n) + \\frac{1}{2};\n",
    "$$\n",
    "\n",
    "this provides us with a \"clean\" sinusoid at twice the carrier frequency that we can track with a single PLL. Once we have locked on to the squared signal we can get both a local carrier replica and a sinusoid at the symbol frequency by dividing the NCO's phase by $2$ and by $2K$ respectively."
   ]
  },
  {
   "cell_type": "markdown",
   "id": "cf67bd56-4e9f-40e9-b01f-069611f61c73",
   "metadata": {},
   "source": [
    "### A PLL with a frequency divider"
   ]
  },
  {
   "cell_type": "code",
   "execution_count": 59,
   "id": "519b337d-dd2e-4449-b928-9a63deb23423",
   "metadata": {},
   "outputs": [],
   "source": [
    "class PLL_multi:\n",
    "    def __init__(self, wc: float, phase_gain: float, freq_gain: float, K=1, sf=None):\n",
    "        self.wc = 2 * np.pi * wc / sf if sf else wc\n",
    "        self.pg, self.fg = phase_gain, freq_gain\n",
    "        self.freq_offset = 0\n",
    "        self.nco_phase, self.carrier_phase, self.symbol_phase = 0, 0, 0\n",
    "        self.K= K\n",
    "\n",
    "    @classmethod\n",
    "    def phase_wrap(cls, w):\n",
    "        return (w + np.pi) % (2 * np.pi) - np.pi\n",
    "\n",
    "    def track(self, x: np.ndarray) -> np.ndarray:\n",
    "        y = np.zeros((2, len(x)))\n",
    "        for n in range(0, len(x)):\n",
    "            y[:, n] = np.cos([self.carrier_phase, self.symbol_phase])\n",
    "            phase_offset = -2 * (x[n] * x[n] - 0.5) * np.sin(self.nco_phase)\n",
    "            self.freq_offset += self.fg * phase_offset\n",
    "            c = self.pg * phase_offset + self.freq_offset\n",
    "            self.nco_phase = self.phase_wrap(self.nco_phase + (self.wc + c)) \n",
    "            self.carrier_phase = self.phase_wrap(self.carrier_phase + (self.wc + c) / 2) \n",
    "            self.symbol_phase = self.phase_wrap(self.symbol_phase + (self.wc + c) / 2 / self.K) \n",
    "        return y"
   ]
  },
  {
   "cell_type": "code",
   "execution_count": 61,
   "id": "8f69c03a-4a16-4cb4-9829-bae6789b686c",
   "metadata": {},
   "outputs": [],
   "source": [
    "carrier, symbol = PLL_multi(2 * tx.wc, 0.01, 0.0005, K=tx.ppb * 2).track(x)\n",
    "\n",
    "S = slice(100, 400)\n",
    "plt.plot(x[S]);\n",
    "plt.plot(carrier[S]);\n",
    "plt.plot(symbol[S]);\n"
   ]
  },
  {
   "cell_type": "markdown",
   "id": "d5530f56-913a-44c0-b5d3-9cad9f95db74",
   "metadata": {},
   "source": [
    "## Demodulation and slicing\n",
    "\n",
    "With the local carrier we can now demodulate via multiplication and lowpass filtering (we use a biquad here because a leaky integrator is not discriminative enough).\n",
    "Looking at the baseband signal, we can see the sequence of positive and negative pulses; the problem is that we don't know yet where the midpoint of each symbol interval is:"
   ]
  },
  {
   "cell_type": "code",
   "execution_count": 70,
   "id": "d66b628c-dd9a-4328-8924-0ce2b203d444",
   "metadata": {},
   "outputs": [],
   "source": [
    "det = x * carrier\n",
    "bb = 2 * sp.lfilter(*LPF(tx.bps * 2, tx.sf), det)\n",
    "\n",
    "plt.plot(det[S]);\n",
    "plt.plot(bb[S]);"
   ]
  },
  {
   "cell_type": "markdown",
   "id": "17bdde4b-d274-4db3-ad05-e15f0e456f6f",
   "metadata": {},
   "source": [
    "## Timing recovery\n",
    "\n",
    "In synchronous BPSK, the duration of a symbol interval is a multiple of the carrier period and so the PLL used for carrier recovery can provide also a timing reference for the symbol rate via frequency downconversion. However, since the PLL locks to a much higher frequency than the symbol rate, the phase of the downconverted reference can be aligned equally probably with any of the carrier periods within a symbol interval, as shown here. "
   ]
  },
  {
   "cell_type": "code",
   "execution_count": 74,
   "id": "d73fe0c5-e849-4bed-bd4b-8c8697eba720",
   "metadata": {},
   "outputs": [],
   "source": [
    "plt.plot(symbol[S]);\n",
    "plt.plot(bb[S]);"
   ]
  },
  {
   "cell_type": "markdown",
   "id": "b8a58f95-df2a-4c38-91b6-501e9919c664",
   "metadata": {},
   "source": [
    "What we would like instead is for the peaks of the symbol-rate sinusoid to fall right in the middle of each symbol interval and use those reference points to recover the bit values."
   ]
  },
  {
   "cell_type": "markdown",
   "id": "40aacb01-70c2-461d-a08d-50f3b14d4de3",
   "metadata": {},
   "source": [
    "### Early-Late timing detector\n",
    "\n",
    "Syncing to the phase of the baseband signal would appear to be a job for another PLL but in fact it's quite tricky to design PLLs for low frequenciss. Remember that in a PLL the loop filter is supposed to eliminate the error component at twice the input frequency from the slow-varying phase error estimate:\n",
    "\n",
    "$$\n",
    "    \\hat\\theta[n] = x[n]y[n] \\propto \\theta[n] + \\sin(\\varphi[n]+\\alpha[n]);\n",
    "$$\n",
    "\n",
    "at low frequencies, we would need a loop filter with a very narrow passband and a sharp transition band, which mean that the loop filter would introduce a significant delay in the feedback path, which in turn makes it very difficult for the PLL to achieve a stable lock.\n",
    "\n",
    "Instead of a PLL, therefore, we use an [_early-late_ timing recovery algorithm](https://wirelesspi.com/gardner-timing-error-detector-a-non-data-aided-version-of-zero-crossing-timing-error-detectors/): the error is estimated a a function of three consecutive baseband samples:\n",
    "\n",
    "  * the current sample $\\hat{p}[n]$\n",
    "  * the _early_ sample $\\hat{p}[n - \\hat{K_n}/2]$\n",
    "  * the _late_ sample $\\hat{p}[n + \\hat{K_n}/2]$\n",
    "\n",
    "where $\\hat{K_n}$ is the current estimate (at time $n$) of the number of bits per sample. The value of $\\hat{K_n}$ is updated every $\\hat{K_n}/2$ samples according to the value of the error and, in general, the algorithm converges very quickly to a value of $\\hat{K}$ so that the samples at $n + m\\hat{K}$ all fall in the middle of symbol periods."
   ]
  },
  {
   "cell_type": "code",
   "execution_count": 80,
   "id": "22af09d6-1e35-40af-99de-acb824beed30",
   "metadata": {},
   "outputs": [],
   "source": [
    "def early_late(x, bps, sf, g=0.2):\n",
    "    sync = np.full(len(x), 0.0)\n",
    "    \n",
    "    # nominal period in samples\n",
    "    K, n = int(sf / bps / 2 + 0.5), 0\n",
    "    while n < len(x) - K - 1:\n",
    "        current, early, late = int(n + 0.5), int(n - K / 2 + 0.5), int(n + K / 2 + 0.5)\n",
    "        ted = x[current] * (x[late] - x[early])\n",
    "        n += K * (1 + ted * g)\n",
    "        sync[current] = 1\n",
    "    return sync"
   ]
  },
  {
   "cell_type": "code",
   "execution_count": 82,
   "id": "23faff91-1d50-448d-8db3-94c1bd4bef6d",
   "metadata": {},
   "outputs": [],
   "source": [
    "N = 5000\n",
    "\n",
    "f = 100\n",
    "test_signal = np.sin(2 * np.pi * f / Fs * np.arange(0, N) + 2) + np.random.rand(N) / 5\n",
    "\n",
    "sync = early_late(test_signal, f, Fs)\n",
    "for S in [slice(0, 1500), slice(-2000, -500)]:\n",
    "    plt.figure()\n",
    "    plt.plot(test_signal[S])\n",
    "    plt.plot(sync[S])"
   ]
  },
  {
   "cell_type": "markdown",
   "id": "9f066385-e4e7-465b-8d5a-24421ac60fc9",
   "metadata": {},
   "source": [
    "We can try it on the demodulated baseband signal from before and it works quite well:"
   ]
  },
  {
   "cell_type": "code",
   "execution_count": 85,
   "id": "7eb0cfaa-612c-42cc-ad77-6078955a7eba",
   "metadata": {},
   "outputs": [],
   "source": [
    "sync = early_late(bb, tx.bps / 2, tx.sf, g=0.05)\n",
    "for S in [slice(0, 2000), slice(50000, 52000)]:\n",
    "    plt.figure()\n",
    "    plt.plot(bb[S])\n",
    "    plt.plot(sync[S])"
   ]
  },
  {
   "cell_type": "markdown",
   "id": "8e3b81dc-b2c2-4a2e-81f3-91120c74b971",
   "metadata": {},
   "source": [
    "## Pre-filtering\n",
    "\n",
    "The BPSK signal has a wide bandwidth but we can pre-filter the input with a bandpass centered at the carrier frequency and with a bandwidth of about six times the symbol rate to eliminate part of the additive noise introduced by the channel.\n",
    "\n",
    "To get an intuition for the value of the filter's bandwidth, consider that each symbol, in magnitude, is a discrete-time rectangular pulse of length $K$ samples and its Fourier transform is thus:\n",
    "\n",
    "$$\n",
    "    P(e^{j\\omega}) = \\frac{\\sin(K\\omega/2)}{\\sin\\omega/2}.\n",
    "$$\n",
    "\n",
    "This spectral shape has spectral nulls at all multiples of $2\\pi/K$ and so with a bandwidth of $6B$ we're capturing the main lobe plus two sidelobes."
   ]
  },
  {
   "cell_type": "code",
   "execution_count": 107,
   "id": "bf4bf114-ed74-4d83-919e-6374dd9c7c20",
   "metadata": {},
   "outputs": [],
   "source": [
    "w = np.linspace(-np.pi/8 , np.pi/8, 200)\n",
    "plt.plot(w / (2 * np.pi / tx.spb), np.abs(np.sin(tx.spb * w / 2) / np.sin(w / 2)));\n",
    "plt.xlabel(\"$\\\\omega/(2\\\\pi/K)$\");"
   ]
  },
  {
   "cell_type": "markdown",
   "id": "9220d6df-97aa-4fe4-b998-c8c3ee733580",
   "metadata": {},
   "source": [
    "## AGC\n",
    "\n",
    "The AGC block is just like what we studied in the notebook on PLLs. The job here is easy because the incoming BPSK signal has a constant envelope. We set the target power level to $1/2$ so as to achieve unit amplitude for the modulated signal."
   ]
  },
  {
   "cell_type": "markdown",
   "id": "aa9c3e6a-5354-4719-be69-4a9b70fbde52",
   "metadata": {
    "editable": true,
    "slideshow": {
     "slide_type": ""
    },
    "tags": []
   },
   "source": [
    "# Exercise: putting it all together\n",
    "\n",
    "You now have all the elements to build your own BPSK receiver. You can test it on a synthetic signal first, generated by the transmitter, and later on a signal captured by the microphone of a laptop. If you are brave, you can try to implement the receiver in real time using the `portaudio` library: a code template is provided in the `rt` folder of this notebook."
   ]
  },
  {
   "cell_type": "markdown",
   "id": "1d1727ff-1d8a-4a49-b3b3-f163775a7e31",
   "metadata": {
    "editable": true,
    "slideshow": {
     "slide_type": ""
    },
    "tags": []
   },
   "source": [
    "## Audio test\n",
    "\n",
    "In the `data` folder you will find four BPSK signals at 50, 100, 150 and 200 bps and carrier frequency 2 kHz; the signals have been played on a cell phone and captured on a laptop using its built-in microphone. How many can your receiver decode?"
   ]
  },
  {
   "cell_type": "code",
   "execution_count": 112,
   "id": "9999ce6d-c13e-46d2-a603-b3f647408a9f",
   "metadata": {
    "editable": true,
    "slideshow": {
     "slide_type": ""
    },
    "tags": []
   },
   "outputs": [],
   "source": [
    "audio_samples = {}\n",
    "for bps in [50, 100, 150, 200]:\n",
    "    sf, audio = wavfile.read(f'data/capture{bps}.wav')\n",
    "    audio_samples[bps] = audio / 32000.0"
   ]
  },
  {
   "cell_type": "code",
   "execution_count": null,
   "id": "94454103-214a-4218-a8ed-cd9f632c3649",
   "metadata": {},
   "outputs": [],
   "source": []
  }
 ],
 "metadata": {
  "kernelspec": {
   "display_name": "Python 3 (ipykernel)",
   "language": "python",
   "name": "python3"
  },
  "language_info": {
   "codemirror_mode": {
    "name": "ipython",
    "version": 3
   },
   "file_extension": ".py",
   "mimetype": "text/x-python",
   "name": "python",
   "nbconvert_exporter": "python",
   "pygments_lexer": "ipython3",
   "version": "3.12.3"
  }
 },
 "nbformat": 4,
 "nbformat_minor": 5
}
