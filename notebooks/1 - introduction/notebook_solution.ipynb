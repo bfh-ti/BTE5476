{
 "cells": [
  {
   "cell_type": "markdown",
   "id": "aa8523ca-1b2d-46d5-a7b6-2f4494dcdb8d",
   "metadata": {
    "editable": true,
    "slideshow": {
     "slide_type": ""
    },
    "tags": []
   },
   "source": [
    "<div style=\"margin: 0 auto 10px; height: 70px; border: 2px solid gray; border-radius: 6px;\">\n",
    "  <div style=\"float: left; margin: 5px 10px 5px 10px; \"><img src=\"img/bfh.jpg\" /></div>\n",
    "  <div style=\"float: right; margin: 20px 30px 0; font-size: 15pt; font-weight: bold; color: #98b7d2;\"><a href=\"https://moodle.bfh.ch/course/view.php?id=39255\" style=\"color: #98b7d2;\">BTE5476 - Project-Oriented Digital Signal Processing </a></div>\n",
    "</div>\n",
    "<div style=\"clear: both; font-size: 30pt; font-weight: bold; color: #64788b; margin-left: 30px;\">\n",
    "    DSP with Python, Numpy, and Matplotlib\n",
    "</div>"
   ]
  },
  {
   "cell_type": "markdown",
   "id": "a04bafda-afb4-4076-b182-fe09e78c5824",
   "metadata": {
    "editable": true,
    "slideshow": {
     "slide_type": ""
    },
    "tags": []
   },
   "source": [
    "Welcome to BTE5476, Project-Oriented Digital Signal Processing. During the semester we will study the details and the implementation of several signal processing algorithms using cases studies from telecommunications, audio processing, and data science. Examples and exercises will be in the form of Jupyter notebooks in Python and we recommend that you review the relevant documentation if you are not familiar with the tools we will use. In particular:\n",
    "\n",
    " * [Jupyter notebooks](https://jupyter.org/) are an extremely popular framework for education and code prototyping; the great advantage in using notebooks is that the code, data, and commentary all \"live together\". You may also want to quickly review the basic syntax of the [markup language](https://commonmark.org/help/tutorial/) used in Jupyter.\n",
    " * the two essential Python libraries for this module are [Numpy](https://numpy.org/) and [Matplotlib](https://matplotlib.org/); we will also rely on [SciPy](https://scipy.org/) and on its [signal processing API](https://docs.scipy.org/doc/scipy/reference/signal.html)\n",
    "\n",
    "To setup your work enviroment, you can download [Anaconda](https://www.anaconda.com/), a bundled installer that contains all the libraries that we will use. Feel free to roll your own Python and Jupyter environment if you prefer, but remember that in this case you will be responsible for any troubleshooting if the class notebooks don't run (they are tested on JupyterLab 4.0.1 using Python 3.12.3)."
   ]
  },
  {
   "cell_type": "markdown",
   "id": "5c1f42b3-1041-4f81-b5d9-2f24e5fbe659",
   "metadata": {
    "editable": true,
    "slideshow": {
     "slide_type": ""
    },
    "tags": []
   },
   "source": [
    "# Let's get started\n",
    "\n",
    "The first thing you will find in all notebooks is the inclusion of all necessary libraries:"
   ]
  },
  {
   "cell_type": "code",
   "execution_count": null,
   "id": "9ea7ce71-3b77-488d-8eeb-87f53ffded97",
   "metadata": {
    "editable": true,
    "slideshow": {
     "slide_type": ""
    },
    "tags": []
   },
   "outputs": [],
   "source": [
    "# this is a \"magic\" command use to make plots appear inside the notebook and below the cell with the plotting code\n",
    "%matplotlib inline\n",
    "import matplotlib.pyplot as plt\n",
    "import numpy as np\n",
    "import scipy.signal as sp\n",
    "# Ipython is used to play audio files\n",
    "import IPython\n",
    "# with this we can read sound files in WAV format\n",
    "from scipy.io import wavfile"
   ]
  },
  {
   "cell_type": "code",
   "execution_count": null,
   "id": "6475bba8-110f-4750-b60d-96764c31fd29",
   "metadata": {
    "editable": true,
    "slideshow": {
     "slide_type": ""
    },
    "tags": []
   },
   "outputs": [],
   "source": [
    "# this sets the default size for the plots\n",
    "plt.rcParams[\"figure.figsize\"] = (9,2.5)"
   ]
  },
  {
   "cell_type": "markdown",
   "id": "6779523e-8283-4e59-830b-bde59132c99d",
   "metadata": {
    "editable": true,
    "slideshow": {
     "slide_type": ""
    },
    "tags": []
   },
   "source": [
    "## Numpy for signal processing\n",
    "\n",
    "In our notebooks we will use Numpy array to represent digital signals. Here are a few handy things to keep in mind when working with Numpy"
   ]
  },
  {
   "cell_type": "code",
   "execution_count": null,
   "id": "a67bf113-be97-4351-9d61-39103f8fac8c",
   "metadata": {
    "editable": true,
    "slideshow": {
     "slide_type": ""
    },
    "tags": []
   },
   "outputs": [],
   "source": [
    "N = 10\n",
    "\n",
    "# creating data arrays of length N\n",
    "x = np.zeros(N)\n",
    "x = np.ones(N)\n",
    "\n",
    "# from Python lists and tuples to arrays\n",
    "x = np.array([1, 2, 4.2])\n",
    "x = np.array((1, 2, 4.2))\n",
    "\n",
    "# casting to other formats\n",
    "x = x.astype(np.int32)\n",
    "\n",
    "# concatenating data\n",
    "x = np.r_[ np.zeros(2), np.ones(10), np.array([1.1, 1.2, 1.3]) ]\n",
    "\n",
    "# quick iterations on arrays. For example, set all negative values to zero\n",
    "x = np.array( [ 0 if t < 0 else t for t in np.random.randn(100) ] )"
   ]
  },
  {
   "cell_type": "markdown",
   "id": "6841e117-6a58-4157-a7a7-9ae3690fdc28",
   "metadata": {
    "editable": true,
    "slideshow": {
     "slide_type": ""
    },
    "tags": []
   },
   "source": [
    "## Coding style\n",
    "\n",
    "It's important to write clean code even for short examples. Try to follow the standard [naming conventions](https://peps.python.org/pep-0008/) and to use [type hinting](https://mypy.readthedocs.io/en/stable/cheat_sheet_py3.html) as much as possible.\n",
    "\n",
    "With few exceptions, signal processing functions and class methods should operate on arrays and return arrays."
   ]
  },
  {
   "cell_type": "code",
   "execution_count": null,
   "id": "ce4e6be9-ce78-4faf-bf73-52ed80677daf",
   "metadata": {
    "editable": true,
    "slideshow": {
     "slide_type": ""
    },
    "tags": []
   },
   "outputs": [],
   "source": [
    "# example of a function that perfoms sinusoidal modulation on an input signal:\n",
    "#  y[n] = x[n] cos(w n)\n",
    "\n",
    "def modulate(x: np.ndarray, w: float) -> np.ndarray:\n",
    "    return x * np.cos(w * np.arange(0, len(x)))"
   ]
  },
  {
   "cell_type": "markdown",
   "id": "de167e0e-95a1-4f65-ac06-6de090f3c41b",
   "metadata": {
    "editable": true,
    "slideshow": {
     "slide_type": ""
    },
    "tags": []
   },
   "source": [
    "## Audio processing\n",
    "\n",
    "Digital audio signals are great to work with because we can listen to the results of our processing algorithms. We will use audio quite a bit in this class so here are some pointers to get started.\n",
    "\n",
    "SciPy's [input-output module](https://docs.scipy.org/doc/scipy/reference/io.html) provides us with convenient functions to read and write audio files in the uncompressed [WAV format](https://en.wikipedia.org/wiki/WAV):\n",
    "\n",
    " * [`scipy.io.wavfile.read()`](https://docs.scipy.org/doc/scipy/reference/generated/scipy.io.wavfile.read.html#scipy.io.wavfile.read)  loads a WAV file and returns its sampling rate (useful for playback) and the audio data as a NumPy array. The data samples are usually 16-bit signed integers; for convenience, since we're not usually concerned with memory constraints, we will often convert audio data to floating point values between -1 and 1.\n",
    " * [`scipy.io.wavfile.write()`](https://docs.scipy.org/doc/scipy/reference/io.html#module-scipy.io.wavfile) to write audio data to disk in WAV format. If your data is in floating point format, remember to convert it back to 16-bit signed ints.\n",
    "\n",
    "Finally, the IPython package, written by the same authors of the Jupyter framework, is a Python framework geared at interactive and multimedia-based computing; to play audio files it provides the function `IPython.display.Audio()` which returns an interactive widget."
   ]
  },
  {
   "cell_type": "code",
   "execution_count": null,
   "id": "0ca20456-d8bf-4b5d-b64e-6e25ebbc0e48",
   "metadata": {
    "editable": true,
    "slideshow": {
     "slide_type": ""
    },
    "tags": []
   },
   "outputs": [],
   "source": [
    "Fs, s = wavfile.read('data/groove.wav')\n",
    "print(f'sampling rate: {Fs} Hz, length: {len(s)/Fs} seconds')"
   ]
  },
  {
   "cell_type": "code",
   "execution_count": null,
   "id": "82409b2d-609c-4f4c-ac0b-605755e37d1b",
   "metadata": {
    "editable": true,
    "slideshow": {
     "slide_type": ""
    },
    "tags": []
   },
   "outputs": [],
   "source": [
    "# plot the data with a time scale in seconds\n",
    "plt.plot(np.arange(0, len(s)) / Fs, s);"
   ]
  },
  {
   "cell_type": "code",
   "execution_count": null,
   "id": "5d66d86e-34c2-44cc-8005-8abb8ee189c5",
   "metadata": {
    "editable": true,
    "slideshow": {
     "slide_type": ""
    },
    "tags": []
   },
   "outputs": [],
   "source": [
    "IPython.display.Audio(s, rate=Fs)"
   ]
  },
  {
   "cell_type": "markdown",
   "id": "0beb2873-e6df-4567-90db-2f81da44bb2d",
   "metadata": {
    "editable": true,
    "slideshow": {
     "slide_type": ""
    },
    "tags": []
   },
   "source": [
    "# Discrete-Time Signals\n",
    "\n",
    "## Infinite-length signals\n",
    "\n",
    "In digital signal processing we deal with objects called _discrete-time signals_. In their most general form, discrete-time (DT) signals are _infinite_ sequences of real- or complex-valued samples and each sample in the sequence is indexed by an integer-valued variable that represents discrete time; in mathematical notation we denote a generic DT signal like so:\n",
    "\n",
    "$$\n",
    "    x[n], \\quad n \\in \\mathbb{Z}.\n",
    "$$\n",
    "\n",
    "Infinite-length signals are obviously abstract entities but, if the values in the sequence can be expressed in closed form as a function of the time index $n$, we can implement a \"signal generator\" using Python classes. For instance, a signal of the form\n",
    "\n",
    "$$\n",
    "    x[n] = \\cos(\\omega_0 n + \\theta)\n",
    "$$\n",
    "\n",
    "can be implemented like so:"
   ]
  },
  {
   "cell_type": "code",
   "execution_count": null,
   "id": "6116f2a7-5dd0-4ea2-ae72-4970b10feae5",
   "metadata": {
    "editable": true,
    "slideshow": {
     "slide_type": ""
    },
    "tags": []
   },
   "outputs": [],
   "source": [
    "class RealSinusoid:\n",
    "    def __init__(self, omega: float, theta: float):\n",
    "        self.omega = omega\n",
    "        self.theta = theta\n",
    "        \n",
    "    def samples(self, n: np.ndarray) -> np.ndarray:\n",
    "        return np.cos(n * self.omega + self.theta)"
   ]
  },
  {
   "cell_type": "markdown",
   "id": "981e18ac-ee22-4c62-a027-2a0a795d4779",
   "metadata": {
    "editable": true,
    "slideshow": {
     "slide_type": ""
    },
    "tags": []
   },
   "source": [
    "Note that $\\omega$ is the frequency of the sinusoid (in radians) and $\\theta$ is the inital phase. The above class implements a discrete-time _oscillator_ that we can now instantiate with the desired frequency and initial phase to generate any number of samples; note how numpy allows us to apply the cosine function to an entire array of indexes:"
   ]
  },
  {
   "cell_type": "code",
   "execution_count": null,
   "id": "26d900c3-fd2b-4887-a297-7527f53124ac",
   "metadata": {
    "editable": true,
    "slideshow": {
     "slide_type": ""
    },
    "tags": []
   },
   "outputs": [],
   "source": [
    "n = np.arange(-100, 100)  # \"time\" range\n",
    "\n",
    "osc = RealSinusoid(np.pi/50, 0)\n",
    "plt.plot(n, osc.samples(n));\n",
    "\n",
    "# you can also instantiate an object without assignment for one-time use\n",
    "plt.plot(n, 0.5 * RealSinusoid(np.pi/30, np.pi/4).samples(n), ':');"
   ]
  },
  {
   "cell_type": "markdown",
   "id": "95f93caa-f651-4788-9014-72db30f626a5",
   "metadata": {
    "editable": true,
    "slideshow": {
     "slide_type": ""
    },
    "tags": []
   },
   "source": [
    "As another example, here is the generator for a sawtooh signal with unit amplitude and a period of $N$ samples:"
   ]
  },
  {
   "cell_type": "code",
   "execution_count": null,
   "id": "f9761ea2-158d-43b4-8081-20d5d1032a75",
   "metadata": {
    "editable": true,
    "slideshow": {
     "slide_type": ""
    },
    "tags": []
   },
   "outputs": [],
   "source": [
    "class Sawtooth:\n",
    "    def __init__(self, period: int):\n",
    "        self.N = period\n",
    "        \n",
    "    def samples(self, n: np.ndarray) -> np.ndarray:\n",
    "        return np.mod(n, self.N) / (self.N - 1)"
   ]
  },
  {
   "cell_type": "code",
   "execution_count": null,
   "id": "40237b50-461c-4762-96d1-b7cc85758fb6",
   "metadata": {
    "editable": true,
    "slideshow": {
     "slide_type": ""
    },
    "tags": []
   },
   "outputs": [],
   "source": [
    "n = np.arange(-100, 100)\n",
    "saw = Sawtooth(50)\n",
    "plt.plot(n, saw.samples(n));"
   ]
  },
  {
   "cell_type": "markdown",
   "id": "e1e879f1-8358-4e38-b0a2-742abd2b5c20",
   "metadata": {
    "editable": true,
    "slideshow": {
     "slide_type": ""
    },
    "tags": []
   },
   "source": [
    "If we want to highlight the discrete-time nature of a signal, we can use \"lollipop\" plots:"
   ]
  },
  {
   "cell_type": "code",
   "execution_count": null,
   "id": "b80a4ae5-6f82-478f-a4f8-bb784f8c33bc",
   "metadata": {
    "editable": true,
    "slideshow": {
     "slide_type": ""
    },
    "tags": []
   },
   "outputs": [],
   "source": [
    "plt.stem(saw.samples(np.arange(0, 100)));"
   ]
  },
  {
   "cell_type": "markdown",
   "id": "e4a824ba-dd3d-4405-9505-3159a90ae2f9",
   "metadata": {
    "editable": true,
    "slideshow": {
     "slide_type": ""
    },
    "tags": []
   },
   "source": [
    "**Exercise: square wave generator.** Complete the code for the generator below so that it produces a unit-amplitude square wave with period $N$ and pulse width $M$ samples."
   ]
  },
  {
   "cell_type": "code",
   "execution_count": null,
   "id": "f1e3fe1a-c8ce-4483-95f2-118ad16e7346",
   "metadata": {
    "editable": true,
    "raw_mimetype": "",
    "slideshow": {
     "slide_type": ""
    },
    "tags": []
   },
   "outputs": [],
   "source": [
    "class Square:\n",
    "    def __init__(self, period: int, pulse: int):\n",
    "        assert pulse <= period, 'duty cycle cannot be greater than one'\n",
    "        # your code here\n",
    "        \n",
    "    def samples(self, n: np.ndarray) -> np.ndarray:\n",
    "        # your code here\n",
    "        pass"
   ]
  },
  {
   "cell_type": "code",
   "execution_count": null,
   "id": "9e6cfd30-0d38-4663-87e0-8f544e9eb5d7",
   "metadata": {
    "editable": true,
    "raw_mimetype": "",
    "slideshow": {
     "slide_type": ""
    },
    "tags": [
     "solution"
    ]
   },
   "outputs": [],
   "source": [
    "# SOLUTION\n",
    "\n",
    "class Square:\n",
    "    def __init__(self, period: int, pulse: int):\n",
    "        assert pulse <= period, 'duty cycle cannot be greater than one'\n",
    "        self.N = period\n",
    "        self.cycle = -np.ones(period)\n",
    "        self.cycle[:pulse] = 1\n",
    "        \n",
    "    def samples(self, n: np.ndarray) -> np.ndarray:\n",
    "        return self.cycle[np.mod(n, self.N)]"
   ]
  },
  {
   "cell_type": "code",
   "execution_count": null,
   "id": "1443264c-b629-4e75-8c85-763073ad5e90",
   "metadata": {
    "editable": true,
    "slideshow": {
     "slide_type": ""
    },
    "tags": []
   },
   "outputs": [],
   "source": [
    "# test\n",
    "plt.stem(Square(50, 20).samples(np.arange(0, 110)));"
   ]
  },
  {
   "cell_type": "markdown",
   "id": "9d915994-a4cf-43db-aa0e-73f6b034c11f",
   "metadata": {
    "editable": true,
    "slideshow": {
     "slide_type": ""
    },
    "tags": []
   },
   "source": [
    "## Random sequences\n",
    "\n",
    "Random signals are another useful type of infinite-length signals, since they can be used to model _noise_. Here is a generator for white Gaussian noise, i.e., a signal where each sample is a random value drawn from a Gaussian distribution with zero mean and variance $\\sigma^2$:"
   ]
  },
  {
   "cell_type": "code",
   "execution_count": null,
   "id": "a40c0538-810d-417f-a8bc-3c68c0f1f177",
   "metadata": {
    "editable": true,
    "slideshow": {
     "slide_type": ""
    },
    "tags": []
   },
   "outputs": [],
   "source": [
    "class WGN:\n",
    "    def __init__(self, sigma: float):\n",
    "        self.sigma = sigma\n",
    "        \n",
    "    def samples(self, n: np.ndarray) -> np.ndarray:\n",
    "        return np.random.randn(len(n)) * self.sigma"
   ]
  },
  {
   "cell_type": "code",
   "execution_count": null,
   "id": "e00f3755-87c2-478b-b7ee-07017f932817",
   "metadata": {
    "editable": true,
    "slideshow": {
     "slide_type": ""
    },
    "tags": []
   },
   "outputs": [],
   "source": [
    "noise = WGN(1)\n",
    "plt.plot(noise.samples(np.arange(0, 1000)));"
   ]
  },
  {
   "cell_type": "markdown",
   "id": "f52188bc-f5ad-46dc-a02e-14a96b21b0b9",
   "metadata": {
    "editable": true,
    "slideshow": {
     "slide_type": ""
    },
    "tags": []
   },
   "source": [
    "## Finite-length signals\n",
    "\n",
    "Signal generators are useful but of course in practice we can only process a finite amount of data. A finite-length signal is equivalent to a one-dimensional vector and therefore it is ideally represented by a 1D Numpy array.\n",
    "\n",
    "We have already implicitly used data arrays before when we created the data for the plots using signal generators but the more interesting situation is when the data that comes from the real world via an Analog-to-Digital (AD) converters. A typical example is audio files, as we have seen in the introduction."
   ]
  },
  {
   "cell_type": "markdown",
   "id": "8e7bca8b-75fe-48a0-8e3b-ec4e30e8b20f",
   "metadata": {
    "editable": true,
    "slideshow": {
     "slide_type": ""
    },
    "tags": []
   },
   "source": [
    "### Energy and power\n",
    "\n",
    "We will often talk about a signal's energy; for finite-length signals this corresponds to the sum of the square magnitude of the samples\n",
    "$$\n",
    "    E_x = \\sum_{n=0}^{N-1} |x[n]|^2.\n",
    "$$\n",
    "\n",
    "The energy normalized by the signal's length provides the _power_ of the signal, that is, the average energy per sample\n",
    "$$\n",
    "    P_x = \\frac{1}{N}\\sum_{n=0}^{N-1} |x[n]|^2.\n",
    "$$"
   ]
  },
  {
   "cell_type": "markdown",
   "id": "41797652-eee6-4548-8f62-038e120aa10d",
   "metadata": {
    "editable": true,
    "slideshow": {
     "slide_type": ""
    },
    "tags": []
   },
   "source": [
    "**Exercise: energy of waveforms** Compute the energy of $N=100$ samples of the following signals:\n",
    " 1. a sinusoid of frequency $\\omega = 2\\pi/N$\n",
    " 2. a sawtooth of period $N$\n",
    " 3. a square wave of period $N$ and pulse width $M=N/2$"
   ]
  },
  {
   "cell_type": "code",
   "execution_count": null,
   "id": "8809c293-ac1f-42cb-a99c-fd1068d4b9ed",
   "metadata": {
    "editable": true,
    "slideshow": {
     "slide_type": ""
    },
    "tags": [
     "solution"
    ]
   },
   "outputs": [],
   "source": [
    "# SOLUTION\n",
    "\n",
    "N = 100\n",
    "for gen in [RealSinusoid(2 * np.pi/N, 0), Sawtooth(N), Square(N, N//2)]:\n",
    "    e = np.sum(gen.samples(np.arange(0, N)) ** 2)\n",
    "    print(f'energy of {gen.__class__.__name__}: {e}')"
   ]
  },
  {
   "cell_type": "markdown",
   "id": "aaef06ca-261c-413e-8c3d-49b3415ca5af",
   "metadata": {
    "editable": true,
    "slideshow": {
     "slide_type": ""
    },
    "tags": []
   },
   "source": [
    "### Listening to signals\n",
    "\n",
    "We can pass the output of our signal generators to IPython's sound engine and listen to the different waveforms. Here are a couple of questions to think about:\n",
    " * what happens if you change the playback rate `Fs` ?\n",
    " * if you order the waveforms in terms of how loud they sound to your ear, do you get the same order as when you rank them by their energy? Why?"
   ]
  },
  {
   "cell_type": "code",
   "execution_count": null,
   "id": "83663f97-cec3-4928-bdff-17f91aff866e",
   "metadata": {
    "editable": true,
    "slideshow": {
     "slide_type": ""
    },
    "tags": []
   },
   "outputs": [],
   "source": [
    "Fs = 16000     # playback rate for the soundcard (samples per second)\n",
    "S = 2  # length of audio clips in seconds\n",
    "\n",
    "# same waveforms as before, with period N\n",
    "N = 100\n",
    "for gen in [RealSinusoid(2 * np.pi/N, 0), Sawtooth(N), Square(N, N//2)]:\n",
    "    x = gen.samples(np.arange(0, S * Fs))  # generate data for S seconds\n",
    "    print(gen.__class__.__name__)\n",
    "    display(IPython.display.Audio(x, rate=Fs, normalize=False))"
   ]
  },
  {
   "cell_type": "markdown",
   "id": "991388de-da18-4549-813c-eb73ee055663",
   "metadata": {
    "editable": true,
    "slideshow": {
     "slide_type": ""
    },
    "tags": []
   },
   "source": [
    "# The frequency domain\n",
    "\n",
    "Every signal \"exists\" simultaneously in the time domain and in the frequency domain; we can move back and forth between the two domains using the Fourier transform. \n",
    "\n",
    "Let's consider a discrete-time signal of length $N$; the data in the signal can be described in two equivalent ways:\n",
    " * as a vector $x[n]$ of $N$ sample values in the time domain\n",
    " * as a vector $X[k]$ of $N$ Fourier coefficients in the frequency domain\n",
    "\n",
    "Let's start with an example to see what this means in practice:"
   ]
  },
  {
   "cell_type": "markdown",
   "id": "1b68f5b8-d7b0-4912-9357-9e8297919919",
   "metadata": {
    "editable": true,
    "slideshow": {
     "slide_type": ""
    },
    "tags": []
   },
   "source": [
    "**Exercise: sawtooth from sinusoids.** A discrete-time sawtooth signal $s[n]$ of period $N$ samples can be expressed as a linear combination of $2N$ harmonic sinusoids (that is, $N$ sines and $N$ cosines whose frequencies are all multiples of the same fundamental frequency); the expression is \n",
    "$$\n",
    "    s[n] = \\frac{1}{2N} \\sum_{k=0}^{N-1} a_k \\cos(\\omega_k\\, n) + b_k \\sin(\\omega_k\\, n)\n",
    "$$\n",
    "where\n",
    "$$\n",
    "    \\omega_k = \\frac{2\\pi}{N}k, \\qquad a_k = \\begin{cases} N & k = 0 \\\\ -1 & k \\neq 0 \\end{cases} \\qquad b_k = \\begin{cases} 0 & k = 0 \\\\ \\cot(\\omega_N\\, k/2) & k \\neq 0 \\end{cases}\n",
    "$$\n",
    "\n",
    "Complete the code below so it generates a sawtooth using the sum of sines and cosines."
   ]
  },
  {
   "cell_type": "code",
   "execution_count": null,
   "id": "914ac670-726c-41bd-9a10-0ef710bd8592",
   "metadata": {
    "editable": true,
    "slideshow": {
     "slide_type": ""
    },
    "tags": []
   },
   "outputs": [],
   "source": [
    "class Sawtooth2:\n",
    "    def __init__(self, period: int):\n",
    "        self.N = period\n",
    "        \n",
    "    def samples(self, n: np.ndarray) -> np.ndarray:\n",
    "        # your code here\n",
    "        pass"
   ]
  },
  {
   "cell_type": "code",
   "execution_count": null,
   "id": "0befdb44-1315-4bac-823e-4f80c7d82eae",
   "metadata": {
    "editable": true,
    "slideshow": {
     "slide_type": ""
    },
    "tags": [
     "solution"
    ]
   },
   "outputs": [],
   "source": [
    "# SOLUTION\n",
    "\n",
    "class Sawtooth2:\n",
    "    def __init__(self, period: int):\n",
    "        self.N = period\n",
    "        \n",
    "    def samples(self, n: np.ndarray) -> np.ndarray:\n",
    "        s = np.ones(len(n)) * N\n",
    "        for k in np.arange(1, N):\n",
    "            w = 2 * np.pi / N * k\n",
    "            s -= np.cos(w * n) + np.sin(w * n) / np.tan(w / 2)\n",
    "        return s / 2 / N"
   ]
  },
  {
   "cell_type": "markdown",
   "id": "427c31aa-5b6b-4194-9f47-6cf6fef6563d",
   "metadata": {
    "editable": true,
    "slideshow": {
     "slide_type": ""
    },
    "tags": []
   },
   "source": [
    "Now let's compare the two implementations: "
   ]
  },
  {
   "cell_type": "code",
   "execution_count": null,
   "id": "13d8964a-7c9a-413b-a1d1-710944c12bfe",
   "metadata": {
    "editable": true,
    "slideshow": {
     "slide_type": ""
    },
    "tags": []
   },
   "outputs": [],
   "source": [
    "N = 50\n",
    "n = np.arange(0, 2 * N)\n",
    "plt.plot(n, Sawtooth(N).samples(n));\n",
    "plt.plot(n, Sawtooth2(N).samples(n));"
   ]
  },
  {
   "cell_type": "markdown",
   "id": "65919fee-2812-432e-a181-7be75a0be9d5",
   "metadata": {
    "editable": true,
    "slideshow": {
     "slide_type": ""
    },
    "tags": []
   },
   "source": [
    "This example is just one particular instance of a remarkable general result: _any_ sequence of $N$ samples can be obtained as a linear combination of $2N$ harmonic sinusoids with fundamental frequency $2\\pi/N$. Note that a sinusoid with frequency $2\\pi k/N$ completes $k$ full periods over $N$ samples and so all sinusoids are $N$-periodic as well."
   ]
  },
  {
   "cell_type": "markdown",
   "id": "b8d68ba3-4f56-456c-8a4b-728110f7db0a",
   "metadata": {
    "editable": true,
    "slideshow": {
     "slide_type": ""
    },
    "tags": []
   },
   "source": [
    "## The DFT (and FFT)\n",
    "\n",
    "Since it's messy to carry around both sines and cosines, we use complex exponentials instead.  (always remember Euler's formula, $e^{j\\alpha} = \\cos\\alpha + j\\sin\\alpha$). The synthesis formula from frequency to time becomes\n",
    "$$\n",
    "    x[n] = \\frac{1}{N} \\sum_{k=0}^{N-1} X[k]\\, e^{j\\frac{2\\pi}{N}nk} , \\quad n=0, \\ldots, N-1\n",
    "$$\n",
    "and the analysis formula to compute the Fourier coefficients is \n",
    "$$\n",
    "    X[k] = \\sum_{n=0}^{N-1} x[n]\\, e^{-j\\frac{2\\pi}{N}nk}, \\quad k=0, \\ldots, N-1.\n",
    "$$\n",
    "The $N$ coefficients $X[k]$ are known as the DFT (Discrete Fourier Transform) of the finite-length signal $x[n]$; they can be computed via an efficient algorithm known as the FFT."
   ]
  },
  {
   "cell_type": "markdown",
   "id": "a2ee2382-3c2c-4b20-8adf-4c1a34af0bbb",
   "metadata": {
    "editable": true,
    "slideshow": {
     "slide_type": ""
    },
    "tags": []
   },
   "source": [
    "**Example revisited:** Using complex exponentials, it's not difficult to show that the sawtooth signal of period $N$ can be obtained as\n",
    "$$\n",
    "    s[n] = \\frac{1}{N} \\sum_{k=0}^{N-1} \\frac{a_k + jb_k}{2}\\, e^{j\\frac{2\\pi}{N}nk} , \\quad n=0, \\ldots, N-1\n",
    "$$\n",
    "Instead of computing the summation explicitly, we can compute all the $N$ values of $s[n]$ at once and very efficiently using Numpy's FFT library:"
   ]
  },
  {
   "cell_type": "code",
   "execution_count": null,
   "id": "ac68d87e-a506-4d9c-b0c9-eaa5f0be1d71",
   "metadata": {
    "editable": true,
    "slideshow": {
     "slide_type": ""
    },
    "tags": []
   },
   "outputs": [],
   "source": [
    "def sawtooth_DFT(N : int) -> np.ndarray:\n",
    "    # returns the DFT coefficients of a sawtooth of period N\n",
    "    return (np.r_[ N, -np.ones(N-1) ] + np.r_[ 0, 1j /  np.tan(np.pi / N * np.arange(1,N)) ] ) / 2"
   ]
  },
  {
   "cell_type": "code",
   "execution_count": null,
   "id": "4c92f8ba-3f1a-4960-85a6-3ab721674671",
   "metadata": {
    "editable": true,
    "slideshow": {
     "slide_type": ""
    },
    "tags": []
   },
   "outputs": [],
   "source": [
    "# compute and plot one period of the sawtooth from the DFT coefficients\n",
    "plt.plot(np.real(np.fft.ifft(sawtooth_DFT(50))));"
   ]
  },
  {
   "cell_type": "markdown",
   "id": "fcb1cc9d-df04-4cb8-821b-8445618d0da6",
   "metadata": {
    "editable": true,
    "slideshow": {
     "slide_type": ""
    },
    "tags": []
   },
   "source": [
    "We explicitly select the real part of the inverse DFT because the finite numerical precision of floating point numbers causes the imaginary part to be just very very small instead of exactly zero: "
   ]
  },
  {
   "cell_type": "code",
   "execution_count": null,
   "id": "7620489f-2695-462a-8708-c46b2ab61fa3",
   "metadata": {
    "editable": true,
    "slideshow": {
     "slide_type": ""
    },
    "tags": []
   },
   "outputs": [],
   "source": [
    "plt.plot(np.imag(np.fft.ifft(sawtooth_DFT(50))));"
   ]
  },
  {
   "cell_type": "markdown",
   "id": "3ad64b80-bfc9-4e19-9b3b-653d29650019",
   "metadata": {
    "editable": true,
    "slideshow": {
     "slide_type": ""
    },
    "tags": []
   },
   "source": [
    "To compute the DFT coefficients numerically from the time-domain data, we apply the DFT analysis formula. Let's compare the DFT coefficients computed numerically via an FFT with their theoretical values:"
   ]
  },
  {
   "cell_type": "code",
   "execution_count": null,
   "id": "cc0d4e3b-415a-4410-a553-a18c4794cf88",
   "metadata": {
    "editable": true,
    "slideshow": {
     "slide_type": ""
    },
    "tags": []
   },
   "outputs": [],
   "source": [
    "N = 50\n",
    "S_FFT = np.fft.fft(Sawtooth(N).samples(np.arange(0, N)))\n",
    "S_thr = sawtooth_DFT(N)\n",
    "plt.subplot(121)\n",
    "plt.plot(S_FFT.real);\n",
    "plt.plot(S_thr.real);\n",
    "plt.subplot(122)\n",
    "plt.plot(S_FFT.imag);\n",
    "plt.plot(S_thr.imag);"
   ]
  },
  {
   "cell_type": "markdown",
   "id": "92b4d371-db65-4a72-95a3-fe4731f28b72",
   "metadata": {
    "editable": true,
    "slideshow": {
     "slide_type": ""
    },
    "tags": []
   },
   "source": [
    "## Plotting the Spectrum\n",
    "\n",
    "The DFT _exactly_ decomposes a signal into harmonic oscillations, and no information is lost. The $k$-th DFT coefficient $X[k]$ shows \"how much\" of the input is provided by the oscillation of frequency\n",
    "\n",
    "$$\n",
    "    \\omega_k = \\frac{2\\pi}{N}k.\n",
    "$$\n",
    "\n",
    "The magnitude of the coefficient determines the amplitued of the oscillation, whereas its phase determines how the oscillation aligns with the others. Since the energy of a every complex exponential in the DFT is the same, the square mangnitude of the DFT coefficients shows the distribution of the signal's energy in the frequency domain: this is called the **spectrum** of a signal. Often, instead of the square magnitude we will just plot the magnitude of the DFT; this is equivalent to considering the RMS value of a sinusoid.\n",
    "\n",
    "Let's plot the magnitude spectrum of the sawtooth signal:"
   ]
  },
  {
   "cell_type": "code",
   "execution_count": null,
   "id": "808313e4-6b09-4d4e-b59f-3d4b3f286bba",
   "metadata": {
    "editable": true,
    "slideshow": {
     "slide_type": ""
    },
    "tags": []
   },
   "outputs": [],
   "source": [
    "plt.stem(np.abs(sawtooth_DFT(50)));"
   ]
  },
  {
   "cell_type": "markdown",
   "id": "686397f4-038e-4eaf-98bd-8b61f952ea96",
   "metadata": {
    "editable": true,
    "slideshow": {
     "slide_type": ""
    },
    "tags": []
   },
   "source": [
    "**Exercise: energy of periodic complex exponentials.** Show numerically that the energy (that is, the sum of the square magnitudes) of $N$ samples of a complex exponential with frequency $2\\pi k/N$ is the same for any integer value of $k$ between $0$ and $N-1$"
   ]
  },
  {
   "cell_type": "code",
   "execution_count": null,
   "id": "4f5d4ed8-beed-4097-b79f-f84a2f337276",
   "metadata": {
    "editable": true,
    "slideshow": {
     "slide_type": ""
    },
    "tags": [
     "solution"
    ]
   },
   "outputs": [],
   "source": [
    "# SOLUTION\n",
    "\n",
    "N = 10\n",
    "print([ np.sum(np.abs(np.exp(2j * np.pi / N * k * np.arange(0, N))) ** 2) for k in np.arange(0, N) ])"
   ]
  },
  {
   "cell_type": "markdown",
   "id": "345f9e4d-7327-4908-91d3-e5f9f01ef480",
   "metadata": {
    "editable": true,
    "slideshow": {
     "slide_type": ""
    },
    "tags": []
   },
   "source": [
    "### Positive and negative frequencies\n",
    "\n",
    "Because of the $2\\pi$-periodicity of complex exponentials, a frequency $\\omega$ between $\\pi$ and $2\\pi$ is equivalent to a _negative_ frequency of $\\omega - 2\\pi$; if we imagine the oscillation as the position of a point rotating in a circular pattern, positive and negative frequencies correspond to counterclockwise and clockwise rotations, respectively. Two frequencies with equal magnitude but opposite sign indicate two rotations with the same angular velocity but with opposite \"spin\". \n",
    "\n",
    "When we consider the full set of $N$ DFT coefficients, the second half of the coefficients can thus be associated to negative frequencies of the form\n",
    "\n",
    "$$\n",
    "    \\omega_k = -\\frac{2\\pi}{N}(N - k) \\quad \\text{for } k \\ge L = \\lceil N / 2 \\rceil.\n",
    "$$\n",
    "\n",
    "Because of this, it often makes more sense to rearrange the DFT so that the second half of the coefficients comes before the first and to plot the coefficients centered around zero with positive frequencies on the right and negative frequencies on the left. This is also consistent with the way other types of spectra are usually plotted, as in the case of the frequency response of filters.\n",
    "\n",
    "Finally, remember that if the original signal is real-valued then the magnitude of the DFT is symmetric around its midpoint, so that in practice we  need to plot only the first half of the DFT coefficients. The same holds if we are interested in the phase of the DFT which, for real-valued inputs, is antisymmetric around its midpoint."
   ]
  },
  {
   "cell_type": "markdown",
   "id": "69cf7b7d-fe40-40b7-91ac-d89f7bf67545",
   "metadata": {
    "editable": true,
    "slideshow": {
     "slide_type": ""
    },
    "tags": []
   },
   "source": [
    "### Centering the DFT around zero\n",
    "\n",
    "There is an important detail that we must take into account when rearranging the DFT coefficients, namely, *we need to differentiate between odd- and even-length signals*. Indeed, assume the signal (and the DFT) are of length $N$; if we want to rearrange the DFT coefficients so that $X[0]$ becomes the center point\n",
    "\n",
    " * For *odd-length* signals, we can write $N = 1 + 2L$ with $L = (N-1)/2 \\in \\mathbb{N}$, and so the maximum positive frequency corresponds to the index $k=L$ while the minimum negative frequency corresponds to index $k=L+1$; with this:\n",
    "   * the $L$ coefficients $X[1]$ to $X[L]$ correspond to the positive frequencies ranging from $\\omega_1 = 2\\pi/N$ to $\\omega_L = \\pi - \\pi/N$\n",
    "   * the $L$ coefficients $X[L+1]$ to $X[N-1]$ correspond to the negative frequencies ranging from $\\omega_{-L} = -\\pi + \\pi/N$ to $\\omega_{-1} = -2\\pi/N$ \n",
    " \n",
    " * For *even-length* signals, $N = 2L$, with $L = N/2 \\in \\mathbb{N}$ and so the maximum positive frequency _and_ the minumum negative frequency are _both_ associated to index $k=L$; indeed, $\\omega_{L} = \\frac{2\\pi}{N}\\frac{N}{2} = \\pi$ and therefore $|\\omega_L| = |\\omega_L - 2\\pi| = \\pi$. We therefore need to reuse coefficient number $L$ as the value associated to the minimum negative frequency:\n",
    "   * the $L$ coefficients $X[1]$ to $X[L]$ correspond to the positive frequencies ranging from $\\omega_1 = 2\\pi/N$ to $\\omega_L = \\pi$\n",
    "   * the $L$ coefficients $X[L]$ to $X[N-1]$ correspond to the negative frequencies ranging from $\\omega_{-L} = -\\pi$ to $\\omega_{-1} = -2\\pi/N$ \n",
    "\n",
    "With this strategy, we obtain a symmetric DFT magnitude data set in both cases:\n",
    " * if $N$ is *odd*, the re-arranged DFT data will be of length $N$ \n",
    " * if $N$ is *even*, the re-arranged DFT data will be of length $N+1$  "
   ]
  },
  {
   "cell_type": "markdown",
   "id": "1e5d30aa-6374-4da2-88db-e75822d54676",
   "metadata": {
    "editable": true,
    "slideshow": {
     "slide_type": ""
    },
    "tags": []
   },
   "source": [
    "**Exercise: rearranging the DFT data.** Complete the code below to implement the centering strategy described above."
   ]
  },
  {
   "cell_type": "code",
   "execution_count": null,
   "id": "9cb0494e-fa37-4151-9cdd-d38f1461843d",
   "metadata": {
    "editable": true,
    "slideshow": {
     "slide_type": ""
    },
    "tags": []
   },
   "outputs": [],
   "source": [
    "def dft_center(X: np.ndarray) -> np.ndarray:\n",
    "    pass"
   ]
  },
  {
   "cell_type": "code",
   "execution_count": null,
   "id": "053ed21c-b293-4677-99d5-fdd1f07b6e39",
   "metadata": {
    "editable": true,
    "slideshow": {
     "slide_type": ""
    },
    "tags": [
     "solution"
    ]
   },
   "outputs": [],
   "source": [
    "# SOLUTION\n",
    "\n",
    "def dft_center(X: np.ndarray) -> np.ndarray:\n",
    "    N, L = len(X), len(X) // 2\n",
    "    if (N % 2 == 0):\n",
    "        return np.r_[ X[L:], X[:L+1] ]\n",
    "    else:\n",
    "        return np.r_[ X[L+1:], X[:L+1] ]"
   ]
  },
  {
   "cell_type": "markdown",
   "id": "e2db364c-cd63-4cb5-b8b5-e1e7fc56dabc",
   "metadata": {
    "editable": true,
    "slideshow": {
     "slide_type": ""
    },
    "tags": []
   },
   "source": [
    "Let's test your solution:"
   ]
  },
  {
   "cell_type": "code",
   "execution_count": null,
   "id": "52fc2cbe-de01-463e-9dca-76efba3997e5",
   "metadata": {
    "editable": true,
    "slideshow": {
     "slide_type": ""
    },
    "tags": []
   },
   "outputs": [],
   "source": [
    "for N in [50, 51]:\n",
    "    X = dft_center(sawtooth_DFT(N))\n",
    "    assert np.allclose(np.sum(X[:len(X)//2] - np.conj(X[:len(X)//2:-1])), 0), 'sorry, try again'\n",
    "    plt.figure();\n",
    "    plt.stem(np.abs(X));"
   ]
  },
  {
   "cell_type": "markdown",
   "id": "1aeaf8d2-7cba-447a-9141-13228ce6befd",
   "metadata": {
    "editable": true,
    "slideshow": {
     "slide_type": ""
    },
    "tags": []
   },
   "source": [
    "**Exercise: signed indexes.** In order to _plot_ the centered DFT coefficients symmetrically around zero, we need to provide the plot function with an array of signed index between $-L$ and $L$, with $L=\\lceil N / 2 \\rceil$. Modify the previous function so that it returns both the signed indexes and the rearranged data."
   ]
  },
  {
   "cell_type": "code",
   "execution_count": null,
   "id": "e9d35cd2-b97c-49b8-9735-ace6804606d8",
   "metadata": {
    "editable": true,
    "slideshow": {
     "slide_type": ""
    },
    "tags": []
   },
   "outputs": [],
   "source": [
    "def dft_center(X: np.ndarray) -> (np.ndarray, np.ndarray):\n",
    "    pass"
   ]
  },
  {
   "cell_type": "code",
   "execution_count": null,
   "id": "d81707a6-2ca5-4b06-a785-674098b198df",
   "metadata": {
    "editable": true,
    "slideshow": {
     "slide_type": ""
    },
    "tags": [
     "solution"
    ]
   },
   "outputs": [],
   "source": [
    "# SOLUTION \n",
    "\n",
    "def dft_center(X: np.ndarray) -> (np.ndarray, np.ndarray):\n",
    "    L = len(X) // 2\n",
    "    # using more compact code to rearrange the DFT data:\n",
    "    return np.arange(-L, L + 1), np.r_[ X[L+(len(X) % 2):], X[:L+1] ]"
   ]
  },
  {
   "cell_type": "markdown",
   "id": "680dccee-4566-4164-9f2f-923e54b7abff",
   "metadata": {
    "editable": true,
    "slideshow": {
     "slide_type": ""
    },
    "tags": []
   },
   "source": [
    "Let's test:"
   ]
  },
  {
   "cell_type": "code",
   "execution_count": null,
   "id": "2530dc78-564c-481f-98c4-b0ee0ccd8014",
   "metadata": {
    "editable": true,
    "slideshow": {
     "slide_type": ""
    },
    "tags": []
   },
   "outputs": [],
   "source": [
    "for N in [50, 51]:\n",
    "    ix, X = dft_center(sawtooth_DFT(N))\n",
    "    assert np.allclose(np.sum(X[:len(X)//2] - np.conj(X[:len(X)//2:-1])), 0), 'sorry, try again'\n",
    "    plt.figure();\n",
    "    plt.stem(ix, np.abs(X));"
   ]
  },
  {
   "cell_type": "markdown",
   "id": "d786f0a2-f765-4827-ac8f-42a3862d3447",
   "metadata": {
    "editable": true,
    "slideshow": {
     "slide_type": ""
    },
    "tags": []
   },
   "source": [
    "**Exercise: signals in the frequency domain.** Using the generators developed so far, plot the zero-centered magnitude spectra of the following signals:\n",
    " * 100 samples of a sinusoid with frequency $\\omega = \\pi/10$\n",
    " * 100 samples of a sinusoid with frequency $\\omega = \\pi/11$\n",
    " * 100 samples of a square wave with period $N=50$ and pulse width $M=25$"
   ]
  },
  {
   "cell_type": "code",
   "execution_count": null,
   "id": "cd6ef35a-6cea-4612-a6ad-be2f40ef32e9",
   "metadata": {
    "editable": true,
    "slideshow": {
     "slide_type": ""
    },
    "tags": [
     "solution"
    ]
   },
   "outputs": [],
   "source": [
    "# SOLUTION \n",
    "\n",
    "for gen in [ RealSinusoid(np.pi/10, 0), RealSinusoid(np.pi/11, 0), Square(50, 25) ]:\n",
    "    plt.figure();\n",
    "    plt.stem(*dft_center(np.abs(np.fft.fft(gen.samples(np.arange(0, 100))))));"
   ]
  },
  {
   "cell_type": "markdown",
   "id": "0806b311-8b74-40d2-b4fc-5a0d4b6c9849",
   "metadata": {
    "editable": true,
    "slideshow": {
     "slide_type": ""
    },
    "tags": []
   },
   "source": [
    "## Spectral analysis of real-world data\n",
    "\n",
    "When dealing with analog physical systems, time is measured in seconds (s) and frequencies are measures in hertz (Hz) a unit whose dimensionality is $[s^{-1}]$. In digital signal processing we have access to sampled versions of the analog signal, where \"time\" is an integer index without physical dimensions; similarly, when we compute the DFT, the frequency index $k$ also is dimensionless. \n",
    "\n",
    "If we know the sampling rate of the signal, however, we can map the DFT index to the underlying physical frequencies in Hz: \n",
    " * if the sampling rate is $F_s$ samples per second, then the time interval between discrete-time signal samples is $T_s = 1/F_s$ seconds\n",
    " * the $k$-th DFT coefficient $X[k]$ corresponds to a digital frequency $\\omega_k = 2\\pi k /N$, that is, to a discrete-time oscillation that completes $k$ full cycles over $N$ samples\n",
    " * if the time between successive samples is $T_s$, then the $k$-th oscillation completes $k$ cycles over $NT_s$ seconds, that is, its period is $NT_s/k$ seconds\n",
    " * in conclusion, the real-world frequency associated to $X[k]$ is $f_k = (k/N)F_s$ Hz.\n",
    " \n",
    "The mapping between DFT indexes and real-world frequenc is thus linear; its factor $\\Delta_f = F_s/N$ represents the maximum frequency resolution provided by a DFT of length $N$ for a signal at sampling frequency $F_s$."
   ]
  },
  {
   "cell_type": "markdown",
   "id": "f0d9172d-e73a-4115-8584-deeea4a0c318",
   "metadata": {
    "editable": true,
    "slideshow": {
     "slide_type": ""
    },
    "tags": []
   },
   "source": [
    "### Mapping frequencies\n",
    "\n",
    "Here is a function that returns a zero-centered DFT together with the frequency values in Hz for each coefficient; if `positive_only` is `True` then only the positive half of the spectrum is returned, which is convenient for real-valued signals whose magnitude spectrum is symmetric."
   ]
  },
  {
   "cell_type": "code",
   "execution_count": null,
   "id": "7d720c55-a35b-4a50-85da-0443ebbf24ca",
   "metadata": {
    "editable": true,
    "slideshow": {
     "slide_type": ""
    },
    "tags": []
   },
   "outputs": [],
   "source": [
    "def dft_map(X: np.ndarray, Fs: float, positive_only = False) -> (np.ndarray, np.ndarray):\n",
    "    L = len(X) // 2\n",
    "    ix, S = np.linspace(-Fs/2, Fs/2, 2*L+1), np.r_[ X[L+(len(X) % 2):], X[:L+1] ]\n",
    "    if positive_only:\n",
    "        return ix[-L-1:], S[-L-1:]\n",
    "    else:\n",
    "        return ix, S"
   ]
  },
  {
   "cell_type": "code",
   "execution_count": null,
   "id": "b7a9bbdd-ea64-480f-871d-e2e7b314bdfe",
   "metadata": {
    "editable": true,
    "slideshow": {
     "slide_type": ""
    },
    "tags": []
   },
   "outputs": [],
   "source": [
    "plt.stem(*dft_map(np.abs(np.fft.fft(Square(10, 5).samples(n))), 1000, False));"
   ]
  },
  {
   "cell_type": "markdown",
   "id": "30c9d402-7a0f-4816-b5b7-a74454bf7be8",
   "metadata": {
    "editable": true,
    "slideshow": {
     "slide_type": ""
    },
    "tags": []
   },
   "source": [
    "### The pitch of a musical note\n",
    "\n",
    "Sounds that contain a periodically repeating pattern evoke in a listener the sensation of musical _pitch_; waveforms with a pattern that repeats quickly are associated to notes in the so-called high register, whereas slowly repeating patterns produce notes in the low register. Here is a note played by a piano; if we zoom in we can see the periodicity of the waveform"
   ]
  },
  {
   "cell_type": "code",
   "execution_count": null,
   "id": "1ad41031-d59d-402f-a781-0c60b1dad144",
   "metadata": {
    "editable": true,
    "slideshow": {
     "slide_type": ""
    },
    "tags": []
   },
   "outputs": [],
   "source": [
    "Fs, x = wavfile.read(\"data/piano.wav\")\n",
    "print(f'the audio sampling rate is {Fs} Hz')\n",
    "IPython.display.Audio(x, rate=Fs)"
   ]
  },
  {
   "cell_type": "code",
   "execution_count": null,
   "id": "be05188b-1351-44f7-839c-77f17a2947bc",
   "metadata": {
    "editable": true,
    "scrolled": true,
    "slideshow": {
     "slide_type": ""
    },
    "tags": []
   },
   "outputs": [],
   "source": [
    "plt.plot(x[10000:10500]);"
   ]
  },
  {
   "cell_type": "markdown",
   "id": "5fd2e532-3022-49b3-8efc-adcf8943762f",
   "metadata": {
    "editable": true,
    "slideshow": {
     "slide_type": ""
    },
    "tags": []
   },
   "source": [
    "A signal in which a pattern repeats $f_0$ times per second has a spectrum characterized by clear peaks at integer multiples of $f_0$; we call this a _harmonic spectrum_ and $f_0$ is called the _fundamental frequency_ of the musical note. \n",
    "\n",
    "To determine $f_0$ we need to locate the first spectral peak with frequency greater than zero; let's begin by looking at the full harmonic structure (we just need the positive frequencies):"
   ]
  },
  {
   "cell_type": "code",
   "execution_count": null,
   "id": "5dfce930-0a02-4da2-9d6d-6eda36a253cc",
   "metadata": {
    "editable": true,
    "slideshow": {
     "slide_type": ""
    },
    "tags": []
   },
   "outputs": [],
   "source": [
    "# we don't need to compute the DFT of the whole signal, given its size\n",
    "ix, X = dft_map(np.abs(np.fft.fft(x[:32768])), Fs, True)\n",
    "plt.plot(ix, X);"
   ]
  },
  {
   "cell_type": "markdown",
   "id": "bbff4df2-53d4-4fd1-9146-e184782c0b14",
   "metadata": {
    "editable": true,
    "slideshow": {
     "slide_type": ""
    },
    "tags": []
   },
   "source": [
    "To determine the pitch, we can zoom in and see that the the first peak is in the vicinity of 200Hz; we can zoom in further and find the fundamental frequency which turns out to be about 220 Hz (corresponding to an A played in the 3rd octave)"
   ]
  },
  {
   "cell_type": "code",
   "execution_count": null,
   "id": "03dd97c4-0f60-437a-90b8-8b2d7ddb2e60",
   "metadata": {
    "editable": true,
    "slideshow": {
     "slide_type": ""
    },
    "tags": []
   },
   "outputs": [],
   "source": [
    "plt.plot(ix[10:1000], X[10:1000]);"
   ]
  },
  {
   "cell_type": "markdown",
   "id": "f53592e1-c487-4ba8-b757-01b753684df8",
   "metadata": {
    "editable": true,
    "slideshow": {
     "slide_type": ""
    },
    "tags": []
   },
   "source": [
    "# Digital filters\n",
    "\n",
    "For our purposes, a filter is an _algorithm_ that produces one output sample $y[n]$ for every new input sample $x[n]$; in the most general case, therefore, a filter is defined by the sequence of operations used to produce the output. A filter usually contains memory buffers to store and access previous input and output values."
   ]
  },
  {
   "cell_type": "markdown",
   "id": "d5dd400b-226a-4dc6-b0ec-b982ee76290b",
   "metadata": {
    "editable": true,
    "slideshow": {
     "slide_type": ""
    },
    "tags": []
   },
   "source": [
    "## LTI filters\n",
    "\n",
    "If the filter's algorithm is both linear and time-invariant (LTI), then we can characterize the filter in several equivalent ways:\n",
    " 1. by describing its algorithm which, for LTI filters, is always of the form $$\n",
    "    y[n] = \\sum_{k=0}^{N} b_k x[n-k] - \\sum_{k=1}^{M} a_k y[n-k];\n",
    "$$ This is called a Constant-Coefficient Difference equation (CCDE).\n",
    " 1. by describing its impulse response $h[n]$, that is, the output of the filter when the input is the sequence $$\n",
    "        \\delta[n] = \\begin{cases} 1 & n=1 \\\\ 0 & n \\neq 0 \\end{cases}.\n",
    "    $$ Once we have the impulse response, we can compute the filter's output for any input signal $x[n]$ via a convolution: $$\n",
    "      y[n] = (x \\ast h)[n] = \\sum_{k=-\\infty}^{\\infty}h[k]x[n-k]\n",
    "    $$\n",
    " 1. by means of the filter's transfer function, which is the $z$-transform of its impulse response and which, for LTI systems, can be obtained directly from the coefficients in the CCDE: $$\n",
    "        H(z) = \\frac{b_0 + b_1 z^{-1} + \\ldots + b_{N}z^{-N}}{1 + a_1 z^{-1} + \\ldots + a_{M}z^{-M}};\n",
    "$$\n",
    " 1. by means of its frequency response, which is the Fourier transform of the impulse response. The frequency response tells us which frequencies will be \"killed\" by the filter and which frequencies will \"survive\" and allows us to classify a filter as lowpass, highpass etc."
   ]
  },
  {
   "cell_type": "markdown",
   "id": "e330ec96-41e3-4bfc-8c60-a150cb109852",
   "metadata": {
    "editable": true,
    "slideshow": {
     "slide_type": ""
    },
    "tags": []
   },
   "source": [
    "### Two simple but useful filters\n",
    "\n",
    "Two simple filters that you should be familiar with are the following:\n",
    "\n",
    " 1. The **Moving Average** of length $M$ is a lowpass filter described by the CCDE $$\n",
    "    y[n] = \\frac{1}{M}\\sum_{k=0}^{M-1}x[n-k] \n",
    "    $$ or by the transfer function $$\n",
    "    H(z) = \\sum_{k=0}^{M-1} \\frac{1}{M}z^{-k}\n",
    "    $$ The Moving Average is an FIR filter, that is, each output sample is computed using only past _input_ samples. Its impulse response is $$\n",
    "    h[n] = \\begin{cases} 1/M & 0 \\le n < M \\\\ 0 & \\mathrm{otherwise} \\end{cases}. $$\n",
    " 1. The **Leaky Integrator** is a lowpass filter described by the CCDE $$\n",
    "    y[n] = \\lambda y[n] + (1-\\lambda)x[n], \\qquad 0 < \\lambda < 1\n",
    "    $$ or by the transfer function $$\n",
    "    H(z) = \\frac{1-\\lambda}{1-\\lambda z^{-1}}\n",
    "    $$ It is a recursive (IIR) filter and its output at time $n$ depends on the output at time $n-1$; assuming zero initial conditions, that is, everything is zero for $n<0$, we can compute its impulse response $$\n",
    "    h[n] = \\begin{cases} (1-\\lambda)\\lambda^n & n \\ge 0 \\\\ 0 & n < 0 \\end{cases}. $$\n"
   ]
  },
  {
   "cell_type": "markdown",
   "id": "6b617dfb-e066-4013-9739-529d10b3de3f",
   "metadata": {
    "editable": true,
    "slideshow": {
     "slide_type": ""
    },
    "tags": []
   },
   "source": [
    "### Frequency response\n",
    "\n",
    "If you know the transfer function of a filter, you can compute its frequency response by taking the ratio of the DFTs of the $b_k$ and the $a_k$ coefficients. Both DFTs should have the same lenght and, to have a smooth plot, usually we zero-pad them to a large number. Numpy's `fft` function can do this for us if we pass the desired length as an optional argument:"
   ]
  },
  {
   "cell_type": "code",
   "execution_count": null,
   "id": "63ba66a9-ace1-4326-a416-277d6e284518",
   "metadata": {
    "editable": true,
    "slideshow": {
     "slide_type": ""
    },
    "tags": []
   },
   "outputs": [],
   "source": [
    "def plot_mag_resp(b: np.ndarray, a: np.ndarray, N: int = 1024) -> None:\n",
    "    _, H = dft_center(np.abs(np.fft.fft(b, N) / np.fft.fft(a, N)))\n",
    "    # we rescale the frequency axis to the [-pi, pi] interval\n",
    "    plt.plot(np.linspace(-np.pi, np.pi, len(H)), H)"
   ]
  },
  {
   "cell_type": "markdown",
   "id": "777dccf4-176e-4277-aa6e-e2bfdf9d744f",
   "metadata": {
    "editable": true,
    "slideshow": {
     "slide_type": ""
    },
    "tags": []
   },
   "source": [
    "Here is the magnitude response of a Moving Average:"
   ]
  },
  {
   "cell_type": "code",
   "execution_count": null,
   "id": "6d206d2f-fc39-4f0f-8635-a46e166a7e40",
   "metadata": {
    "editable": true,
    "slideshow": {
     "slide_type": ""
    },
    "tags": []
   },
   "outputs": [],
   "source": [
    "M = 20\n",
    "plot_mag_resp(np.ones(M)/M, [1])"
   ]
  },
  {
   "cell_type": "markdown",
   "id": "8186ee77-50ab-4646-9ea9-3f248bb3f37b",
   "metadata": {
    "editable": true,
    "slideshow": {
     "slide_type": ""
    },
    "tags": []
   },
   "source": [
    "and here is the magnitude response of a Leaky Integrator:"
   ]
  },
  {
   "cell_type": "code",
   "execution_count": null,
   "id": "b88f08af-c5fd-4622-b5b1-0a2e3ed7951c",
   "metadata": {
    "editable": true,
    "slideshow": {
     "slide_type": ""
    },
    "tags": []
   },
   "outputs": [],
   "source": [
    "lam = 0.9\n",
    "plot_mag_resp([1 - lam], [1, -lam])"
   ]
  },
  {
   "cell_type": "markdown",
   "id": "7fe3cebd-e3fc-4602-b60c-432128cccebc",
   "metadata": {
    "editable": true,
    "slideshow": {
     "slide_type": ""
    },
    "tags": []
   },
   "source": [
    "When we know the sampling rate, we may want to plot the frequency response over the actual frequency range of the signal:"
   ]
  },
  {
   "cell_type": "code",
   "execution_count": null,
   "id": "c9944d7b",
   "metadata": {
    "editable": true,
    "slideshow": {
     "slide_type": ""
    },
    "tags": []
   },
   "outputs": [],
   "source": [
    "def plot_mag_resp_hz(b: np.ndarray, a: np.ndarray, Fs: float, N: int = 1024) -> None:\n",
    "    plt.plot(*dft_map(np.abs(np.fft.fft(b, N) / np.fft.fft(a, N)), Fs, True))"
   ]
  },
  {
   "cell_type": "markdown",
   "id": "7378a277-c80c-409e-a5fa-30f5228ee22d",
   "metadata": {
    "editable": true,
    "slideshow": {
     "slide_type": ""
    },
    "tags": []
   },
   "source": [
    "## Implementing filters in Python\n",
    "\n",
    "Although ready-made algorithms are available in SciPy, it's instructive to try and implement LTI filters from scratch to understand the underlying computational requirements. "
   ]
  },
  {
   "cell_type": "markdown",
   "id": "95dcb9f6-fbb3-4af6-bffe-25a14c954dfb",
   "metadata": {
    "editable": true,
    "slideshow": {
     "slide_type": ""
    },
    "tags": []
   },
   "source": [
    "### Filters as functions\n",
    "\n",
    "When filters are implemented as standalone pure functions, the entire input signal is passed as an argument to the function, and the entire output signal is returned. \n",
    "\n",
    "As a first example, consider this implementation of the Leaky Integrator:"
   ]
  },
  {
   "cell_type": "code",
   "execution_count": null,
   "id": "4bce58c5-6bc0-4dae-bb50-6afabcca91b3",
   "metadata": {
    "editable": true,
    "slideshow": {
     "slide_type": ""
    },
    "tags": []
   },
   "outputs": [],
   "source": [
    "def leaky(x: np.ndarray, lam: float) -> np.ndarray:\n",
    "    y = np.zeros(len(x))\n",
    "    for n in range(0, len(x)):\n",
    "        y[n] = lam * y[n-1] + (1 - lam) * x[n]        \n",
    "    return y"
   ]
  },
  {
   "cell_type": "markdown",
   "id": "eb2b3e42-d936-4a04-91cc-b9ef22ad5275",
   "metadata": {
    "editable": true,
    "slideshow": {
     "slide_type": ""
    },
    "tags": []
   },
   "source": [
    "We can verify that the code works by computing the response to an impulse and comparing the output to the theoretical values:"
   ]
  },
  {
   "cell_type": "code",
   "execution_count": null,
   "id": "4e515845-b13a-4d90-9a32-02b447563d9b",
   "metadata": {
    "editable": true,
    "slideshow": {
     "slide_type": ""
    },
    "tags": []
   },
   "outputs": [],
   "source": [
    "N = 100\n",
    "lam = 0.95\n",
    "plt.stem(leaky(np.r_[1, np.zeros(N-1)], lam));\n",
    "plt.plot((1 - lam) * lam ** np.arange(0, N), 'C2');"
   ]
  },
  {
   "cell_type": "markdown",
   "id": "5df71d68-3ed5-448e-b26f-5e19c6b1d682",
   "metadata": {
    "editable": true,
    "slideshow": {
     "slide_type": ""
    },
    "tags": []
   },
   "source": [
    "When we call the function we assume zero initial conditions, that is, we assume that $y[n]=0$ for $n<0$. In practice, we need only the value $y[-1]$ in the first iteration and in the implementation we exploit Python's negative indexing feature:\n",
    " * we pre-allocate an output array `y` with the same length as the input signal, and we initialize it with zeros\n",
    " * in the first iteration of the filtering loop, when `n` is zero, the expression `y[n-1]` becomes `y[-1]` which is the last element of the zero-filled array `y`; therefore `y[n-1]` is indeed equal to zero for `n=0`. "
   ]
  },
  {
   "cell_type": "markdown",
   "id": "6896f0a0-8999-44db-901f-40ee685651bc",
   "metadata": {
    "editable": true,
    "slideshow": {
     "slide_type": ""
    },
    "tags": []
   },
   "source": [
    "**Exercise: implement the Moving Average** Implement a MA filter of length $M$ as a function; it should return the output values for $n = 0, 1, \\ldots, N-1$, where $N$ is the length of the input sequence, and assume zero initial conditions for the filter (which, in this case, corresponds to assuming $x[n] = 0$ for $n < 0$)."
   ]
  },
  {
   "cell_type": "code",
   "execution_count": null,
   "id": "f56ef3e8-23ef-4691-8aa5-7f77aa7b1a57",
   "metadata": {
    "editable": true,
    "slideshow": {
     "slide_type": ""
    },
    "tags": []
   },
   "outputs": [],
   "source": [
    "def ma(x: np.ndarray, M: int) -> np.ndarray:\n",
    "    ...        \n",
    "    return y"
   ]
  },
  {
   "cell_type": "code",
   "execution_count": null,
   "id": "f67fcfa2-0948-46ed-9980-2e362f71880c",
   "metadata": {
    "editable": true,
    "slideshow": {
     "slide_type": ""
    },
    "tags": [
     "solution"
    ]
   },
   "outputs": [],
   "source": [
    "# SOLUTION\n",
    "\n",
    "def ma(x: np.ndarray, M: int) -> np.ndarray:\n",
    "    N = len(x)\n",
    "    y = np.zeros(N)\n",
    "    # prepend M-1 zeros to x so that we can always \"go back\" M samples to compute the average\n",
    "    x = np.r_[np.zeros(M-1), x]\n",
    "    for n in range(0, N):\n",
    "        # we can use the built-in averaging function in numpy over the previous M samples\n",
    "        y[n] = np.mean(x[n:n+M])        \n",
    "    return y"
   ]
  },
  {
   "cell_type": "markdown",
   "id": "40fdd74b-8bd6-46c0-821e-1152796ee655",
   "metadata": {
    "editable": true,
    "slideshow": {
     "slide_type": ""
    },
    "tags": []
   },
   "source": [
    "Let's test your implementation:"
   ]
  },
  {
   "cell_type": "code",
   "execution_count": null,
   "id": "fe32a368-9ac5-4ae0-b133-a469ee0b1b4d",
   "metadata": {
    "editable": true,
    "slideshow": {
     "slide_type": ""
    },
    "tags": []
   },
   "outputs": [],
   "source": [
    "y = ma((-1) ** np.arange(0, 40), 20) # test signal, filtered\n",
    "print('good job!' if np.sum(y[1::2]) == 0 and np.sum(y[:20:2]) == 0.5 else 'Sorry, try again!')"
   ]
  },
  {
   "cell_type": "markdown",
   "id": "3d927b43-43e0-455c-b856-24db03c5f625",
   "metadata": {
    "editable": true,
    "slideshow": {
     "slide_type": ""
    },
    "tags": []
   },
   "source": [
    "### Filters as classes\n",
    "\n",
    "Digital filters compute each output sample as a linear combination of past input and output samples. In function-based implementations the _entire_ input is passed as an argument and therefore the \"past\" is accessible via simple array indexing.\n",
    "\n",
    "In many signal processing applications, however, a filter needs be used iteratively on the input one or a few samples at a time and, in this case, a function-based implementation is not going to work because variables in [pure functions](https://en.wikipedia.org/wiki/Pure_function) are not persistent across calls.\n",
    "\n",
    "Remember that the $z^{-1}$ delay elements in a filter's transfer function represent the memory cells that a filter needs to \"remember\" past input and output samples; at any given point in time, the content of these delay elements contain the _internal state_ of the filter, which must be preserved across successive calls. \n",
    "\n",
    "A code object that preserves its internal state across calls is known as _stateful_ and the natural way to implement stateful objects in Python is via [classes](https://www.learnpython.org/en/Classes_and_Objects). \n",
    "\n",
    "Here is a stateful Leaky Integrator:"
   ]
  },
  {
   "cell_type": "code",
   "execution_count": null,
   "id": "28fde28e-fe58-49ec-b305-62bd6ce57eac",
   "metadata": {
    "editable": true,
    "slideshow": {
     "slide_type": ""
    },
    "tags": []
   },
   "outputs": [],
   "source": [
    "class LI:\n",
    "    def __init__(self, lam: float):\n",
    "        self.y_prev = 0\n",
    "        self.lam = lam\n",
    "        \n",
    "    def reset(self):\n",
    "        # leaky integrator needs just one memory cell\n",
    "        self.y_prev = 0\n",
    "        \n",
    "    def filt(self, x: np.ndarray) -> np.ndarray:\n",
    "        y = np.r_[np.zeros(len(x) - 1), self.y_prev]\n",
    "        for n in range(0, len(x)):\n",
    "            y[n] = self.lam * y[n-1] + (1 - self.lam) * x[n]\n",
    "        self.y_prev = y[-1]\n",
    "        return y"
   ]
  },
  {
   "cell_type": "markdown",
   "id": "ec7e6193-7808-411f-85ab-5a75bfe88b4e",
   "metadata": {
    "editable": true,
    "slideshow": {
     "slide_type": ""
    },
    "tags": []
   },
   "source": [
    "Here too we exploit Python's negative indexing feature; the line \n",
    "\n",
    "`y = np.r_[np.zeros(len(x) - 1), self.y_prev]` \n",
    "\n",
    "ensures that the element `y[-1]` contains the last output value computed in the previous call to `filt` (or zero if it's the first time that `filt` is called). We also added a \"reset\" method to clear the internal memory."
   ]
  },
  {
   "cell_type": "code",
   "execution_count": null,
   "id": "e6a7df36-d4c4-488b-8c9e-8a33c2d4ee3a",
   "metadata": {
    "editable": true,
    "slideshow": {
     "slide_type": ""
    },
    "tags": []
   },
   "outputs": [],
   "source": [
    "x = np.ones(50)\n",
    "# create a leaky integrator filter \n",
    "li = LI(0.95)\n",
    "\n",
    "# filtering the whole input\n",
    "y1 = li.filt(x)\n",
    "# filtering the input one sample at a time\n",
    "li.reset()\n",
    "y2 = [li.filt([x_n]) for x_n in x]\n",
    "\n",
    "plt.stem(y1);\n",
    "plt.stem(y2);"
   ]
  },
  {
   "cell_type": "markdown",
   "id": "ebe586b8-ad82-4b24-ac35-4b5711d9693b",
   "metadata": {
    "editable": true,
    "slideshow": {
     "slide_type": ""
    },
    "tags": []
   },
   "source": [
    "**Exercise: a stateful Moving Average**  Complete the `filt` method so that the following class implements a stateful Moving Average filter."
   ]
  },
  {
   "cell_type": "code",
   "execution_count": null,
   "id": "95f7f50e-7fa4-4193-8d52-81a30d4cbf85",
   "metadata": {
    "editable": true,
    "slideshow": {
     "slide_type": ""
    },
    "tags": []
   },
   "outputs": [],
   "source": [
    "class MA:\n",
    "    def __init__(self, M: int):\n",
    "        # moving average needs to keep track of previous M-1 input samples\n",
    "        self.buf = np.zeros(M-1)\n",
    "        self.M = M\n",
    "        \n",
    "    def reset(self):\n",
    "        self.buf = self.buf * 0\n",
    "        \n",
    "    def filt(self, x: np.ndarray) -> np.ndarray:\n",
    "        x = np.array([x]) if np.isscalar(x) else x\n",
    "        \n",
    "        ... # your code here\n",
    "        \n",
    "        return y"
   ]
  },
  {
   "cell_type": "code",
   "execution_count": null,
   "id": "bd3f3692-ef49-4784-8561-00ce2a31fb27",
   "metadata": {
    "editable": true,
    "slideshow": {
     "slide_type": ""
    },
    "tags": [
     "solution"
    ]
   },
   "outputs": [],
   "source": [
    "# SOLUTION\n",
    "\n",
    "class MA:\n",
    "    def __init__(self, M: int):\n",
    "        self.buf = np.zeros(M-1)\n",
    "        self.M = M\n",
    "        \n",
    "    def reset(self):\n",
    "        self.buf = self.buf * 0\n",
    "        \n",
    "    def filt(self, x: np.ndarray) -> np.ndarray:\n",
    "        N = len(x)\n",
    "        y = np.zeros(N)\n",
    "        x = np.r_[self.buf, x]\n",
    "        for n in range(0, N):\n",
    "            y[n] = np.mean(x[n:n+self.M])        \n",
    "        self.buf = x[-self.M+1:]\n",
    "        return y"
   ]
  },
  {
   "cell_type": "markdown",
   "id": "8df506e8-6a7c-41c9-b0f1-d4657b0c4e7f",
   "metadata": {
    "editable": true,
    "slideshow": {
     "slide_type": ""
    },
    "tags": []
   },
   "source": [
    "Let's test your implementation:"
   ]
  },
  {
   "cell_type": "code",
   "execution_count": null,
   "id": "c6e2fb38-4cec-4b05-9ca3-da6c9627cc50",
   "metadata": {
    "editable": true,
    "slideshow": {
     "slide_type": ""
    },
    "tags": []
   },
   "outputs": [],
   "source": [
    "# create the moving average filter \n",
    "ma = MA(11)\n",
    "\n",
    "# filtering the whole input\n",
    "y1 = ma.filt(x)\n",
    "# filtering the input one sample at a time\n",
    "ma.reset()\n",
    "y2 = [ma.filt([x_n]) for x_n in x]\n",
    "\n",
    "plt.stem(y1);\n",
    "plt.stem(y2);"
   ]
  },
  {
   "cell_type": "markdown",
   "id": "7b2c5fc0-405d-4272-bd03-e5bf97d76e4e",
   "metadata": {
    "editable": true,
    "slideshow": {
     "slide_type": ""
    },
    "tags": []
   },
   "source": [
    "**Example: stateful implementation of a generic transfer function**\n",
    "Study the following stateful implementaton of a generic IIR filter with difference equation\n",
    "$$\n",
    "    y[n] = \\sum_{k=0}^{N-1} b_k x[n-k] - \\sum_{k=1}^{M-1} a_k y[n-k].\n",
    "$$ "
   ]
  },
  {
   "cell_type": "code",
   "execution_count": null,
   "id": "461d4ce0-3d74-40d2-b79e-b652ab1bce93",
   "metadata": {
    "editable": true,
    "slideshow": {
     "slide_type": ""
    },
    "tags": []
   },
   "outputs": [],
   "source": [
    "class DTFilter:\n",
    "    def __init__(self, B: np.ndarray, A: np.ndarray):\n",
    "        # normalize (if a_0 != 1) and store coefficients in reversed order\n",
    "        self.b = np.array(B)[::-1] / A[0]\n",
    "        self.a = np.array(A)[::-1] / A[0] \n",
    "        # allocate buffer for both input and output past values\n",
    "        self.buf_len = max(len(self.a), len(self.b))\n",
    "        self.buf = np.zeros((2, self.buf_len))\n",
    "\n",
    "    def reset(self):\n",
    "        self.buf = self.buf * 0.0\n",
    "\n",
    "    def filt(self, data: np.ndarray) -> np.ndarray:\n",
    "        data_len = len(data)\n",
    "        self.buf = np.concatenate((self.buf, [data, np.zeros(data_len)]), axis=1)\n",
    "        # fill the second row: output values\n",
    "        for n in range(self.buf_len + 1, self.buf_len + data_len + 1):\n",
    "            self.buf[1][n-1] = self.b @ self.buf[0][n-len(self.b):n] - self.a @ self.buf[1][n-len(self.a):n]\n",
    "        # extract the last output values to return, the length of which is the length of the input\n",
    "        y = self.buf[1][-1] if data_len == 1 else self.buf[1][-data_len:]\n",
    "        # update the buffer\n",
    "        self.buf = self.buf[:,-self.buf_len:]\n",
    "        return y"
   ]
  },
  {
   "cell_type": "markdown",
   "id": "5ee41ae4-5637-450c-a88b-30a241b848f0",
   "metadata": {
    "editable": true,
    "slideshow": {
     "slide_type": ""
    },
    "tags": []
   },
   "source": [
    "We can check the generic implementation against our previous implementations of the Leaky Integrator and the Moving Average:"
   ]
  },
  {
   "cell_type": "code",
   "execution_count": null,
   "id": "c975605e-cdb5-4fca-b81c-ba0540e5a00c",
   "metadata": {
    "editable": true,
    "slideshow": {
     "slide_type": ""
    },
    "tags": []
   },
   "outputs": [],
   "source": [
    "x = np.random.rand(100) - 0.5\n",
    "\n",
    "lam = 0.9\n",
    "assert np.allclose(LI(lam).filt(x), DTFilter([1-lam], [1, -lam]).filt(x))\n",
    "\n",
    "M = 11\n",
    "assert np.allclose(MA(M).filt(x), DTFilter(np.ones(M) / M, [1]).filt(x))"
   ]
  },
  {
   "cell_type": "markdown",
   "id": "b62074d8-a912-4201-9685-bc93f5362cff",
   "metadata": {
    "editable": true,
    "slideshow": {
     "slide_type": ""
    },
    "tags": []
   },
   "source": [
    "## Using SciPy\n",
    "\n",
    "The [SciPy library](https://scipy.org/) is a Python library implementing _\"fundamental algorithms for scientific computing\"_; among the various subpackages included in SciPy, the [signal processing module](https://docs.scipy.org/doc/scipy/reference/signal.html#module-scipy.signal) provides us with a rich set of ready-made routines. Here are some useful pointer for later"
   ]
  },
  {
   "cell_type": "markdown",
   "id": "4f8c3171-decb-4020-a627-d78f9c9efb24",
   "metadata": {
    "editable": true,
    "slideshow": {
     "slide_type": ""
    },
    "tags": []
   },
   "source": [
    "### Filter design\n",
    "\n",
    "Scipy provides all the fundamental filter design routines; the most useful ones are:\n",
    "\n",
    " * [`scipy.signal.butter()`](https://docs.scipy.org/doc/scipy/reference/generated/scipy.signal.butter.html#scipy.signal.butter) to design Butterworth filters (monotonic frequency response)\n",
    " * [`scipy.signal.ellip()`](https://docs.scipy.org/doc/scipy/reference/generated/scipy.signal.ellip.html#scipy.signal.ellip) for elliptical filters (sharp transition bands)\n",
    " * [`scipy.signal.remez()`](https://docs.scipy.org/doc/scipy/reference/generated/scipy.signal.remez.html#scipy.signal.remez) to design linear-phase optimal FIR filters using the Parks-McClellan algorithm"
   ]
  },
  {
   "cell_type": "markdown",
   "id": "64eebf97-58a1-496d-b298-55961645c247",
   "metadata": {
    "editable": true,
    "slideshow": {
     "slide_type": ""
    },
    "tags": []
   },
   "source": [
    "### Filter analysis and implementation\n",
    "\n",
    "You may want to familiarize yourself with the following functions:\n",
    "\n",
    " * `scipy.signal.freqz()`  to plot the frequency response of a filter [(documentation)](https://docs.scipy.org/doc/scipy/reference/generated/scipy.signal.lfilter.html#scipy.signal.lfilter)\n",
    " * `scipy.signal.lfilter()` to filter a signal [(documentation)](https://docs.scipy.org/doc/scipy/reference/generated/scipy.signal.lfilter.html#scipy.signal.lfilter)"
   ]
  },
  {
   "cell_type": "markdown",
   "id": "6d8fd0a3-2b6c-4097-9523-4ac932a154e8",
   "metadata": {
    "editable": true,
    "slideshow": {
     "slide_type": ""
    },
    "tags": []
   },
   "source": [
    "## Audio processing examples\n",
    "\n",
    "We can use digital filters to extract different frequency regions of an audio file. Let's load one of the samples available with this notebook (but you can of course use your own music!)"
   ]
  },
  {
   "cell_type": "code",
   "execution_count": null,
   "id": "089cd6a2-2810-4894-8e39-fce951370129",
   "metadata": {
    "editable": true,
    "slideshow": {
     "slide_type": ""
    },
    "tags": []
   },
   "outputs": [],
   "source": [
    "Fs, s = wavfile.read('data/sm.wav')\n",
    "print(f'sampling rate: {Fs} Hz, length: {len(s)/Fs} seconds')\n",
    "IPython.display.Audio(s, rate=Fs)"
   ]
  },
  {
   "cell_type": "markdown",
   "id": "1219e259-f9d8-40ab-b1f8-25904dc54fee",
   "metadata": {
    "editable": true,
    "slideshow": {
     "slide_type": ""
    },
    "tags": []
   },
   "source": [
    "### Extracting the low frequencies\n",
    "\n",
    "Suppose we are interested in hearing more clearly the bass part; since a bass guitar plays notes with pitch from about 40 to 400 Hz, we could try to filter the audio with a lowpass with cutoff 200Hz to focus on the range of the instrument.\n",
    "\n",
    "Let's start with an elliptic filter for which we can use the `sp.ellip` design routine. Let's first convert the desired cutoff frequency in Hertz to a normalized value that the function understands; according to [the specs](https://docs.scipy.org/doc/scipy/reference/generated/scipy.signal.ellip.html#scipy.signal.ellip), the cutoff frequency should be normalized so that a value of 1 corresponds to half the sampling frequency of the signal. \n",
    "\n",
    "We are using a 8-th order filter with 60dB attenuation in stopband and 10% max ripple. Feel free to play with these design parameters and see the effects that they have on the output."
   ]
  },
  {
   "cell_type": "code",
   "execution_count": null,
   "id": "19ab082f-6d47-4549-a44c-c4b5dcce9b32",
   "metadata": {
    "editable": true,
    "slideshow": {
     "slide_type": ""
    },
    "tags": []
   },
   "outputs": [],
   "source": [
    "fc = 200  # cutoff frequency in Hz\n",
    "wc = fc / (Fs / 2)\n",
    "b, a = sp.ellip(8, .1, 60, wc)"
   ]
  },
  {
   "cell_type": "code",
   "execution_count": null,
   "id": "f1458c1d-9816-410e-abc8-ef16a4ca33c3",
   "metadata": {
    "editable": true,
    "slideshow": {
     "slide_type": ""
    },
    "tags": []
   },
   "outputs": [],
   "source": [
    "# let's have a look at the frequency response\n",
    "plot_mag_resp_hz(b, a, Fs)"
   ]
  },
  {
   "cell_type": "code",
   "execution_count": null,
   "id": "f430a669-4eaf-4f7a-9647-1def00447a40",
   "metadata": {
    "editable": true,
    "slideshow": {
     "slide_type": ""
    },
    "tags": []
   },
   "outputs": [],
   "source": [
    "# let's filter the audio and play it\n",
    "s_filt = sp.lfilter(b, a, s)\n",
    "IPython.display.Audio(s_filt, rate=Fs)"
   ]
  },
  {
   "cell_type": "markdown",
   "id": "e43de74a-1ee0-437a-ae9b-ac6e7bb89496",
   "metadata": {
    "editable": true,
    "slideshow": {
     "slide_type": ""
    },
    "tags": []
   },
   "source": [
    "### Extracting the treble\n",
    "\n",
    "Just as we tried to extract the bass, we can try to extract parts of the drum pattern. Usually, we get a good feel for the hi-hat and cymbals by keeping frequencies above 4KHz so we will need a highpass filter.\n",
    "\n",
    "Let's try with an FIR; note that, to design a highpass, we must choose an odd number of taps in order to obtain a type I filter (symmetric with integer delay):"
   ]
  },
  {
   "cell_type": "code",
   "execution_count": null,
   "id": "5b540ab7-2aff-4ac3-87ac-c7907ec5cbc2",
   "metadata": {
    "editable": true,
    "slideshow": {
     "slide_type": ""
    },
    "tags": []
   },
   "outputs": [],
   "source": [
    "# cutoff frequency\n",
    "fc = 4000\n",
    "# transition band:\n",
    "tb = 100\n",
    "# length of the filter \n",
    "M = 1001\n",
    "\n",
    "h = sp.remez(M, [0, fc - tb, fc, Fs/2], [0, 1], weight=[1, 1], Hz=Fs)\n",
    "plot_mag_resp_hz(h, [1], Fs)"
   ]
  },
  {
   "cell_type": "code",
   "execution_count": null,
   "id": "83aa3456-c636-430f-9b93-2d87073037c4",
   "metadata": {
    "editable": true,
    "slideshow": {
     "slide_type": ""
    },
    "tags": []
   },
   "outputs": [],
   "source": [
    "s_filt = sp.lfilter(h, [1], s)\n",
    "IPython.display.Audio(s_filt, rate=Fs)"
   ]
  },
  {
   "cell_type": "code",
   "execution_count": null,
   "id": "293c7834-e9a8-47b9-adc3-281039a299c3",
   "metadata": {},
   "outputs": [],
   "source": []
  }
 ],
 "metadata": {
  "kernelspec": {
   "display_name": "Python 3 (ipykernel)",
   "language": "python",
   "name": "python3"
  },
  "language_info": {
   "codemirror_mode": {
    "name": "ipython",
    "version": 3
   },
   "file_extension": ".py",
   "mimetype": "text/x-python",
   "name": "python",
   "nbconvert_exporter": "python",
   "pygments_lexer": "ipython3",
   "version": "3.12.3"
  }
 },
 "nbformat": 4,
 "nbformat_minor": 5
}
