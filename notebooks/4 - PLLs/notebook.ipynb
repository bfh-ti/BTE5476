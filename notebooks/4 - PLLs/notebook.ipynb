{
 "cells": [
  {
   "cell_type": "markdown",
   "id": "4c146887-ed59-499c-b433-72c635243980",
   "metadata": {},
   "source": [
    "<div style=\"margin: 0 auto 10px; height: 70px; border: 2px solid gray; border-radius: 6px;\">\n",
    "  <div style=\"float: left; margin: 5px 10px 5px 10px; \"><img src=\"img/bfh.jpg\" /></div>\n",
    "  <div style=\"float: right; margin: 20px 30px 0; font-size: 15pt; font-weight: bold; color: #98b7d2;\"><a href=\"https://moodle.bfh.ch/course/view.php?id=39255\" style=\"color: #98b7d2;\">BTE5476 - Project-Oriented Digital Signal Processing </a></div>\n",
    "</div>\n",
    "<div style=\"clear: both; font-size: 30pt; font-weight: bold; color: #64788b; margin-left: 30px;\">\n",
    "    Phase-Locked Loops and More\n",
    "</div>"
   ]
  },
  {
   "cell_type": "code",
   "execution_count": 2,
   "id": "a689d7d8-b1e3-4551-b035-594fc6a5f4e9",
   "metadata": {},
   "outputs": [],
   "source": [
    "%matplotlib inline\n",
    "import matplotlib\n",
    "import matplotlib.pyplot as plt\n",
    "import numpy as np\n",
    "import scipy.signal as sp\n",
    "import IPython\n",
    "from scipy.io import wavfile\n",
    "import random\n",
    "import string"
   ]
  },
  {
   "cell_type": "code",
   "execution_count": 3,
   "id": "786dcfc5-4dff-4ac3-a45d-8c1c68c96506",
   "metadata": {},
   "outputs": [],
   "source": [
    "plt.rcParams[\"figure.figsize\"] = (9,2.5)"
   ]
  },
  {
   "cell_type": "markdown",
   "id": "0ce79bb8-7428-4597-a687-346ccec4edac",
   "metadata": {},
   "source": [
    "The following functions were originally defined in the notebooks on biquad filters."
   ]
  },
  {
   "cell_type": "code",
   "execution_count": 5,
   "id": "9201f4c4-b149-4607-b334-6affd4efea55",
   "metadata": {
    "jupyter": {
     "source_hidden": true
    }
   },
   "outputs": [],
   "source": [
    "def LPF(fc, sf, Q=(1/np.sqrt(2))):\n",
    "    \"\"\"Biquad lowpass filter\"\"\"\n",
    "    w = 2 * np.pi * fc / sf\n",
    "    alpha = np.sin(w) / (2 * Q)\n",
    "    c = np.cos(w)\n",
    "    a = np.array([1 + alpha, -2 * c, 1 - alpha])\n",
    "    b = np.array([(1 - c) / 2, 1 - c, (1 - c) / 2])\n",
    "    return b / a[0], a / a[0]\n",
    "    \n",
    "def BPF(fc, bw, sf):\n",
    "    \"\"\"Biquad bandpass filter\"\"\"\n",
    "    w = 2 * np.pi * fc / sf\n",
    "    alpha = np.tan(np. pi * bw / sf)\n",
    "    c = np.cos(w)\n",
    "    b = np.array([alpha, 0, -alpha])\n",
    "    a = np.array([1 + alpha, -2 * c, 1 - alpha])\n",
    "    return b / a[0], a / a[0]\n",
    "\n",
    "def NTCF(fc, bw, sf):\n",
    "    \"\"\"Biquad notch filter\"\"\"\n",
    "    w = 2 * np.pi * fc / sf\n",
    "    alpha = np.tan(np. pi * bw / sf)\n",
    "    c = np.cos(w)\n",
    "    b = np.array([1, -2 * c, 1])\n",
    "    a = np.array([1 + alpha, -2 * c, 1 - alpha])\n",
    "    return b / a[0], a / a[0]"
   ]
  },
  {
   "cell_type": "code",
   "execution_count": 6,
   "id": "32961096-62e1-442d-a62b-2b1f621156c2",
   "metadata": {
    "jupyter": {
     "source_hidden": true
    }
   },
   "outputs": [],
   "source": [
    "def analog_response(b, a, sf, dB=-100, half=True, points=2001, axis=None, color='C0', label=None):\n",
    "    \"\"\"plot the magnitude response of a digital filter on a log-log scale\"\"\"\n",
    "    EPS = 1e-20\n",
    "    w = np.linspace(0, np.pi, points)\n",
    "    A, B = np.zeros(points, dtype='complex'), np.zeros(points, dtype='complex')\n",
    "    for n, bn in enumerate(b):\n",
    "        B += bn * np.exp(-1j * n * w)\n",
    "    for n, an in enumerate(a):\n",
    "        A += an * np.exp(-1j * n * w)\n",
    "    M = 20 * np.log10(np.abs(np.where(B == 0, EPS, B) / (np.where(A == 0, EPS, A))))\n",
    "    \n",
    "    if axis is None:\n",
    "        _, axis = plt.subplots()\n",
    "    axis.plot(np.linspace(0, sf / 2, points), M, color, lw=2, label=label)\n",
    "    axis.set_xscale('log')\n",
    "    axis.set_ylabel('dB', color='C0')\n",
    "    axis.grid(visible=True, which='both')    \n",
    "    axis.axis('tight')\n",
    "    axis.set_ylim([max(dB, min(M)), None])  "
   ]
  },
  {
   "cell_type": "code",
   "execution_count": 7,
   "id": "e4fd15ce-11d0-4b5e-aad6-c4e148ba1329",
   "metadata": {
    "jupyter": {
     "source_hidden": true
    }
   },
   "outputs": [],
   "source": [
    "def plot_mag_spec(data, Fs=2*np.pi, pts=None, maxf=None, minf=None, one_sided=True):\n",
    "    pts = len(data) if pts is None else pts\n",
    "    w = Fs * (np.arange(0, pts) / pts - 0.5)\n",
    "    X = np.abs(np.fft.fftshift(np.fft.fft(data, pts)))\n",
    "    maxf = Fs / 2 if maxf is None else maxf\n",
    "    minf = -Fs / 2 if minf is None else minf\n",
    "    if one_sided and minf < 0:\n",
    "        minf = 0\n",
    "    start = max(0, int(pts * (Fs / 2 + minf) / Fs))\n",
    "    stop = min(pts, int(pts * (Fs / 2 + maxf) / Fs))\n",
    "    plt.plot(w[start:stop], X[start:stop]);"
   ]
  },
  {
   "cell_type": "code",
   "execution_count": 8,
   "id": "49e22a9f-a7d6-45d1-9968-9136437c113f",
   "metadata": {},
   "outputs": [],
   "source": [
    "Fs = 32000  # default sampling rate for the examples in the notebook"
   ]
  },
  {
   "cell_type": "markdown",
   "id": "1f6d91b9-8d6e-4eae-b060-51bd2b3e2321",
   "metadata": {
    "editable": true,
    "slideshow": {
     "slide_type": ""
    },
    "tags": []
   },
   "source": [
    "# Remote Synchronization\n",
    "\n",
    "Consider the problem of sending a synchronization event to a remote device; for example, imagine we need to \"wake up\" a data receiver to signal that a data payload is incoming, or that we need to synchronize the internal clock of the remote device to a specific time reference.\n",
    "\n",
    "To do this, we need to design a signal with an identifiable feature that is well localized in time, and we need to make sure that this feature remains clearly identifiable after the signal is transmitted over the communication channel to the remote device."
   ]
  },
  {
   "cell_type": "markdown",
   "id": "4dd8dab7-2f79-4b04-9b1e-019aceb2a54d",
   "metadata": {
    "editable": true,
    "slideshow": {
     "slide_type": ""
    },
    "tags": []
   },
   "source": [
    "## Simple synchronization pulses\n",
    "\n",
    "The most elementary type of time-localized feature is a sharp amplitude transition: imagine flipping a switch on or off.\n",
    "\n",
    "Since every communication channel will at the very least introduce some additive noise, in the absence of other impairments we just need to make sure that the amplitude rises clearly above the noise floor; at the receiving end, the transition instant can be recovered by thresholding. For example we can use a simple pulse:"
   ]
  },
  {
   "cell_type": "code",
   "execution_count": 11,
   "id": "bd170b09-95bd-4657-8e0d-3a8e59b3b7b7",
   "metadata": {
    "editable": true,
    "slideshow": {
     "slide_type": ""
    },
    "tags": []
   },
   "outputs": [],
   "source": [
    "N = 8000  # length of signal\n",
    "T = 4100  # time of pulse\n",
    "\n",
    "noise_floor = np.random.rand(N) - 0.5"
   ]
  },
  {
   "cell_type": "code",
   "execution_count": 12,
   "id": "5d8dd690-58de-4cd1-ab1e-6d14dac334b7",
   "metadata": {
    "editable": true,
    "slideshow": {
     "slide_type": ""
    },
    "tags": []
   },
   "outputs": [],
   "source": [
    "x = noise_floor.copy()\n",
    "x[T] += 2.5\n",
    "plt.plot(x);"
   ]
  },
  {
   "cell_type": "markdown",
   "id": "077eefe0-993f-4d16-95df-5b86d0e55308",
   "metadata": {
    "editable": true,
    "slideshow": {
     "slide_type": ""
    },
    "tags": []
   },
   "source": [
    "Unfortunately this is not going to work the moment we need to send the synchronization signal over a bandlimited channel; for example:"
   ]
  },
  {
   "cell_type": "code",
   "execution_count": 14,
   "id": "f4a2c92c-3b59-40f2-bb6a-7175b5ada4d1",
   "metadata": {
    "editable": true,
    "slideshow": {
     "slide_type": ""
    },
    "tags": []
   },
   "outputs": [],
   "source": [
    "channel_bw = [1500, 2500]\n",
    "channel_mid = np.mean(channel_bw)\n",
    "channel = sp.ellip(4, 3, 40, channel_bw, 'bandpass', fs=Fs)\n",
    "analog_response(*channel, Fs, half=True)"
   ]
  },
  {
   "cell_type": "code",
   "execution_count": 15,
   "id": "119086c7-b99c-4240-8537-b62f6a5f27a0",
   "metadata": {},
   "outputs": [],
   "source": [
    "def pre_post(x, channel):\n",
    "    plt.figure(figsize=(9, 4))\n",
    "    plt.subplot(2,1,1)\n",
    "    plt.plot(x);\n",
    "    plt.subplot(2,1,2)\n",
    "    plt.plot(sp.lfilter(*channel, x), 'C1');"
   ]
  },
  {
   "cell_type": "code",
   "execution_count": 16,
   "id": "cc4e31f6-e1e5-4692-89c5-e5a8a72acaed",
   "metadata": {},
   "outputs": [],
   "source": [
    "pre_post(x, channel)"
   ]
  },
  {
   "cell_type": "markdown",
   "id": "f98c91b1-cea9-4141-af6b-2d04ac7f084a",
   "metadata": {
    "editable": true,
    "slideshow": {
     "slide_type": ""
    },
    "tags": []
   },
   "source": [
    "We could try to make the pulse wider, or ever use a step signal, but things are not going to improve much: "
   ]
  },
  {
   "cell_type": "code",
   "execution_count": 18,
   "id": "f4d2f909-d8fb-4844-9c35-a6ba2a9acb57",
   "metadata": {},
   "outputs": [],
   "source": [
    "x = noise_floor.copy()\n",
    "x[T:T+100] += 1.5\n",
    "pre_post(x, channel)"
   ]
  },
  {
   "cell_type": "code",
   "execution_count": 19,
   "id": "db4bf1d1-9353-4069-b1cb-5031e084991b",
   "metadata": {
    "editable": true,
    "slideshow": {
     "slide_type": ""
    },
    "tags": []
   },
   "outputs": [],
   "source": [
    "x = noise_floor.copy()\n",
    "x[T:] += 1.5\n",
    "pre_post(x, channel)"
   ]
  },
  {
   "cell_type": "markdown",
   "id": "eae9da10-8cbd-4abc-80b2-7c20ae04d833",
   "metadata": {
    "editable": true,
    "slideshow": {
     "slide_type": ""
    },
    "tags": []
   },
   "source": [
    "## Modulated pulses\n",
    "\n",
    "The problem, of course, is that the timing information contained in a localized amplitude change contains spectral energy at all frequencies and therefore its shape is destroyed by a narrowband filter. What we want to do is adapt the synchronization signal to the channel, for instance by using a modulated pulse instead."
   ]
  },
  {
   "cell_type": "code",
   "execution_count": 21,
   "id": "1a62a86f-63c5-4f63-b1f2-bb7a62bb0bb5",
   "metadata": {
    "editable": true,
    "slideshow": {
     "slide_type": ""
    },
    "tags": []
   },
   "outputs": [],
   "source": [
    "pilot_freq = channel_mid"
   ]
  },
  {
   "cell_type": "code",
   "execution_count": 22,
   "id": "2ce32f1d-200f-486c-a684-baa3aa55ddae",
   "metadata": {
    "editable": true,
    "slideshow": {
     "slide_type": ""
    },
    "tags": []
   },
   "outputs": [],
   "source": [
    "x = noise_floor.copy()\n",
    "x[T:T+100] += np.cos(2 * np.pi * pilot_freq / Fs * np.arange(0, 100))\n",
    "pre_post(x, channel)"
   ]
  },
  {
   "cell_type": "code",
   "execution_count": 23,
   "id": "3bf904b1",
   "metadata": {
    "editable": true,
    "slideshow": {
     "slide_type": ""
    },
    "tags": []
   },
   "outputs": [],
   "source": [
    "x = noise_floor.copy()\n",
    "x[T:T+100] += np.cos(2 * np.pi * pilot_freq / Fs * np.arange(0, 100)) / 2\n",
    "pre_post(x, channel)"
   ]
  },
  {
   "cell_type": "markdown",
   "id": "5f8d768b-9136-4af6-8308-29d8f6a938f5",
   "metadata": {
    "editable": true,
    "slideshow": {
     "slide_type": ""
    },
    "tags": []
   },
   "source": [
    "## Phase reversal  \n",
    "\n",
    "When sending a timing reference over a bandlimited channel, it's generally not advisable to use on/off keying (i.e. to send a time-limited pulse); this is because the receiver usually needs to \"warm up\" to the incoming signal and amplify it so that it reaches the expected power level. \n",
    "\n",
    "An more robust solution is to encode the timing reference as a _phase reversal_ in a relatively long _pilot tone_ at a specific frequency: the receiver detects the incoming tone, adjusts the amplification gain, and then waits to detect the phase reversal."
   ]
  },
  {
   "cell_type": "code",
   "execution_count": 25,
   "id": "3667429e-2d82-4aed-b066-d5b8ddcba3b4",
   "metadata": {
    "editable": true,
    "slideshow": {
     "slide_type": ""
    },
    "tags": []
   },
   "outputs": [],
   "source": [
    "def sync_signal(len_sec, SNR=None, freq_err_perc=0, rev_point=0.5, freq_Hz=2000, sf=32000):\n",
    "    rev_point = 1 if rev_point <=0 else min(rev_point, 1)\n",
    "    wp = 2 * np.pi * (1 + freq_err_perc / 100) * freq_Hz / sf \n",
    "    N, M = int(len_sec * sf * rev_point), int(len_sec * sf * (1 - rev_point))\n",
    "    tail = np.cos(wp * np.arange(0, max(N, M)))\n",
    "    s = np.r_[np.flipud(tail)[-N:], -tail[1:M]]\n",
    "    if SNR is not None:\n",
    "        # power of sync sinusoid is 1/2; power of uniform noise is a^2 / 12\n",
    "        a = np.sqrt(6 * np.power(10, -SNR / 10))\n",
    "        s += a * (np.random.rand(len(s)) - 0.5)\n",
    "        # scale signal so that power is 1/2\n",
    "        s *= np.sqrt(6 / (6 + a * a))\n",
    "    return s"
   ]
  },
  {
   "cell_type": "code",
   "execution_count": 26,
   "id": "349f21e9-6036-4274-9843-20d0d7d38970",
   "metadata": {
    "editable": true,
    "slideshow": {
     "slide_type": ""
    },
    "tags": []
   },
   "outputs": [],
   "source": [
    "plt.plot(sync_signal(0.005));"
   ]
  },
  {
   "cell_type": "markdown",
   "id": "52729897-1bbc-43fa-834b-8d4ffab49bac",
   "metadata": {
    "editable": true,
    "slideshow": {
     "slide_type": ""
    },
    "tags": []
   },
   "source": [
    "A simple method to detect a phase reversal in a pilot uses a bandpass filter to isolate the tone and a notch filter centered on the tone frequency. After a brief lead time, all the energy of the incoming signal is \"killed\" by the notch but, when the phase reversal occurs, the energy of the signal \"spreads out\" around the tone frequency and can be easily detected even in the presence of noise:\n"
   ]
  },
  {
   "cell_type": "code",
   "execution_count": 28,
   "id": "de45b745-d818-4fc6-ae48-5fcf2f2b8e4e",
   "metadata": {
    "editable": true,
    "slideshow": {
     "slide_type": ""
    },
    "tags": []
   },
   "outputs": [],
   "source": [
    "def show_pr(x, channel=None, pilot_freq_Hz=2000, sf=32000):\n",
    "    if channel is not None:\n",
    "        y = sp.lfilter(*channel, x)\n",
    "    else:\n",
    "        y = x.copy()\n",
    "    # using a simple biquad notch centered on the pilot frequency\n",
    "    y, _ = sp.lfilter(*NTCF(pilot_freq_Hz, 200, sf), y, zi=[-.5, .5])\n",
    "    plt.plot(x);\n",
    "    plt.plot(y, 'C3');"
   ]
  },
  {
   "cell_type": "code",
   "execution_count": 29,
   "id": "2ada2203-e144-4a99-b24e-b6ef516e3af4",
   "metadata": {
    "editable": true,
    "slideshow": {
     "slide_type": ""
    },
    "tags": []
   },
   "outputs": [],
   "source": [
    "show_pr(sync_signal(0.05), channel=channel)"
   ]
  },
  {
   "cell_type": "code",
   "execution_count": 30,
   "id": "10225bb8",
   "metadata": {
    "editable": true,
    "slideshow": {
     "slide_type": ""
    },
    "tags": []
   },
   "outputs": [],
   "source": [
    "show_pr(sync_signal(0.05, SNR=10), channel=channel)"
   ]
  },
  {
   "cell_type": "markdown",
   "id": "8f39e20d-e101-4f1e-b179-af813f911be0",
   "metadata": {
    "editable": true,
    "slideshow": {
     "slide_type": ""
    },
    "tags": []
   },
   "source": [
    "The problem with this approach is that it's relatively sensitive to the location of the notch; if there is a mismatch with the frequency of the pilot tone, it will be hard or impossible to detect the change in energy associated to the phase reversal:"
   ]
  },
  {
   "cell_type": "code",
   "execution_count": 32,
   "id": "ec93772b",
   "metadata": {
    "editable": true,
    "slideshow": {
     "slide_type": ""
    },
    "tags": []
   },
   "outputs": [],
   "source": [
    "show_pr(sync_signal(0.05, SNR=10, freq_err_perc=-10), channel=channel)"
   ]
  },
  {
   "cell_type": "markdown",
   "id": "8f892ba8-3229-40aa-9361-7aeee9bf2513",
   "metadata": {},
   "source": [
    "# Phase-Locked Loops\n",
    "\n",
    "A phase-locked-loop (PLL) is an adaptive signal processing device designed to \"lock\" on to a periodic input signal and track possible changes in the input's phase and frequency. The generic structure of a PLL is shown in the following diagram:\n",
    "\n",
    "<div style=\"margin: 0 auto;\"><img src=\"img/PLL.png\" width=\"600\"></div>\n",
    "\n",
    "\n",
    "At every \"time\" instant $n$, the PLL estimates the phase offset between the input signal and the signal $y[n]$ generated by its internal oscillator; this offset, after processing by a so-called _loop filter_, is then fed back to the internal oscillator as a control signal to try and keep its output in lock with the input. "
   ]
  },
  {
   "cell_type": "markdown",
   "id": "6334edf9-db5b-4352-b18d-fcc3d1a0a324",
   "metadata": {},
   "source": [
    "## The NCO\n",
    "\n",
    "<div style=\"float:right; margin: 0 10px;\"><img src=\"img/nco.png\" width=\"400\"></div>\n",
    "\n",
    "A Numerically Controlled Oscillator (NCO) is a stateful (i.e. _with memory_) discrete-time device with a user-definable default frequency value $\\omega_c$. \n",
    "\n",
    "\n",
    "As per the block diagram, at every step $n$:\n",
    "\n",
    " * the NCO's internal state variable $\\varphi[n]$ (that is, the NCO's internal _phase_) is updated as $$\\varphi[n] = \\varphi[n-1] + \\omega_c + c[n];$$ note that this is equivalent to applying a discrete time integrator (not a leaky one!) on the sequence $\\omega_c + c[n]$\n",
    " * the NCO's output is computed as $y[n] = p(\\varphi[n])$, where $p(\\cdot)$ is a $2\\pi$-periodic function of its argument\n",
    "\n",
    "At any point in time:\n",
    "\n",
    " * $\\varphi[n]$ is the NCO's instantaneous _phase_\n",
    " * $\\varphi[n] - \\varphi[n-1] = \\omega_c + c[n]$ is the NCO's instantaneous _frequency_"
   ]
  },
  {
   "cell_type": "markdown",
   "id": "a734a95d-e365-43af-b2d8-c51e5a420a6c",
   "metadata": {},
   "source": [
    "### A sinusoidal NCO\n",
    "\n",
    "If we choose $p(\\cdot) = \\sin(\\cdot)$, and assuming zero initial conditions, the NCO's output at time $n$ is \n",
    "\n",
    "$$\n",
    "    y[n] = \\sin\\varphi[n] = \\sin\\left(\\sum_{k=0}^{n} (\\omega_c + c[k])\\right) = \\sin\\left(\\omega_c\\, n + \\sum_{k=0}^{n}c[k]\\right)\n",
    "$$\n",
    "\n",
    "Some typical cases:\n",
    "\n",
    " * if $c[n] = 0$, the NCO will produce a sinusoid at the nominal frequency $\\omega_c$\n",
    " * if $c[n] = \\theta_0 \\delta[n-n_0]$, the NCO's output will be shifted in phase by $\\theta_0$ radians for $n \\ge n_0$\n",
    " * if $c[n] = \\omega_0 u[n]$, the NCO will produce a sinusoid at frequency $\\omega_c + \\omega_0$"
   ]
  },
  {
   "cell_type": "markdown",
   "id": "f514d1d1-36b7-4f47-be77-e00f56d96572",
   "metadata": {},
   "source": [
    "### Aside: FM radio\n",
    "\n",
    "In wireless communications the goal is to encode the information of a baseband signal (such as music or voice) onto a high-frequency sinusoidal carrier; the result is a passband signal that matches the physical properties of the frequency band used for radio transmission. This spectral shift of the original baseband signal is called _modulation_.\n",
    "\n",
    "\n",
    "The simplest type of radio transmission is Amplitude Modulation (AM), where the baseband signal is encoded in the carrier's amplitude:\n",
    "\n",
    "$$\n",
    "    s[n] = x[n] \\, \\cos(\\omega_c \\, n);\n",
    "$$\n",
    "\n",
    "while simple to implement, AM is however very sensitive to additive noise. \n",
    "\n",
    "<div style=\"float:right; margin: 10px;\"><img src=\"img/amfm.png\" width=\"400\"></div>\n",
    "\n",
    "\n",
    "Frequency Modulation (FM) was developed in the 1930s as a noise-resilient alternative (_\"FM, no static at all\"_); in FM the baseband information is encoded via small variations in the carrier's frequency:\n",
    "\n",
    "$$\n",
    "    s[n] = \\cos\\left(\\sum_{k=0}^{n} (\\omega_c + \\gamma\\, x[k])\\right)\n",
    "$$\n",
    "\n",
    "where $\\gamma$ is called the _modulation index_. FM is a nonlinear operation and therefore its theoretical analysis is difficult; it's easy to see, however, that an FM signal has a _constant envelope_ (that is, the amplitude is independent of $x[n]$) which makes it easier to reject additive noise. From the above expression, it's apparent that an FM modulator can be easily implemented digitally using an NCO; originally, in analog radio devices, a Voltage Controlled Oscillator (VCO) was used instead, to produce the analog FM signal \n",
    "\n",
    "$$\n",
    "    s(t) = \\cos\\left(\\int_{\\tau=0}^{t} 2\\pi f_c + \\gamma\\, x(\\tau)\\,\\, d\\tau\\right).\n",
    "$$"
   ]
  },
  {
   "cell_type": "markdown",
   "id": "e949b0ea-3fdf-4866-94ed-ef5b8a80243d",
   "metadata": {},
   "source": [
    "## Phase offset detector\n",
    "\n",
    "The method to compute the phase offset between the NCO's output and the input depends on the type of waveform that the PLL is designed to track. In a digital PLL we could in principle implement a very sophisticated algorithm if we wanted but, in practice, it turns out that everything works just fine even with just a relatively coarse estimation.\n",
    "\n",
    "For instance, in the case of sinusoidal signals, phase offset estimation can be achieved simply by multiplying the NCO's output with the input signal. Indeed, if we express the input as $x[n] = \\cos\\alpha[n]$, its phase offset with the NCO's output $y[n] = \\sin\\varphi[n]$ will be $\\theta[n] = \\varphi[n] - \\alpha[n] + \\pi/2$; we have\n",
    "\n",
    "$$\n",
    "    x[n]y[n] = \\sin\\varphi[n]\\cos\\alpha[n] \\propto \\sin(\\varphi[n]-\\alpha[n]) - \\sin(\\varphi[n]+\\alpha[n]) = \\sin\\theta[n] - \\sin(\\varphi[n]+\\alpha[n])\n",
    "$$\n",
    "\n",
    "When the NCO is almost in lock with the input, the phase offset will be small so that $\\sin\\theta[n] \\approx \\theta[n]$ and so \n",
    "\n",
    "$$\n",
    "    \\hat\\theta[n] = x[n]y[n] \\propto \\theta[n] + \\sin(\\varphi[n]+\\alpha[n]);\n",
    "$$\n",
    "\n",
    "where the last term a high-frequency oscillation that will be removed by the lowpass characteristic of the loop filter. Note that, when the PLL is in lock, the NCO's output will always be _in quadrature_ with the input, that is, if the input is a cosine, the NCO will produce a sine. To provide a clean copy of the input, generally NCOs also output a secondary signal with a $\\pi/2$ phase shift."
   ]
  },
  {
   "cell_type": "markdown",
   "id": "c1d44da4-80b7-4fbe-b60a-954aa6ac488c",
   "metadata": {},
   "source": [
    "## Loop filter\n",
    "\n",
    "<div style=\"float:right; margin: 10px 0;\"><img src=\"img/loopfilter.png\" width=\"400\"></div>\n",
    "\n",
    "The Loop Filter is the most delicate component of a PLL and designing a good loop filter for a given use case is quite an art. To keep things simple, here we only consider an NCO control signal of the form\n",
    "\n",
    "$$\n",
    "    c[n] = G_p\\, \\theta[n] + \\omega[n]\n",
    "$$\n",
    "\n",
    "where \n",
    "\n",
    "$$\n",
    "    \\omega[n] = \\omega[n-1] + G_f\\,\\theta[n] \\\\ \n",
    "$$\n",
    "\n",
    "The control signal will thus depend on the instantaneous phase offset via a _phase gain_ factor $G_p$ and on the average phase offset $\\omega[n]$, computed via a leaky integrator with leakage factor $1-G_f$; note that, following our description of a NCO, an average phase offset corresponds to a _frequency_ offset between input and output, so that $G_f$ can be interpreted as a _frequency_ gain factor.\n",
    "\n",
    "We won't go into the theoretical details on how to determine the optimal values of $G_p$ and $G_f$ for a given application but, in a nutshell,\n",
    "\n",
    "  * $G_p$ and $G_f$ must both be less than one in magnitude to ensure stability (both are usually very small) \n",
    "  * $G_p$ determines the \"sensitivity\" of the PLL to instantaneous phase offsets\n",
    "  * $G_f$ affects the _bandwidth_ of the PLL, that is, the interval of frequencies around the nominal value $\\omega_c$ that the PLL can successfully track  "
   ]
  },
  {
   "cell_type": "markdown",
   "id": "f7a826b9-0b1b-4dc4-82de-0d4c8f8613bc",
   "metadata": {},
   "source": [
    "## A PLL for sinusoidal signals\n",
    "\n",
    "Here is the implementation of a PLL for sinusoidal signal. The code is straightforward."
   ]
  },
  {
   "cell_type": "code",
   "execution_count": 40,
   "id": "519b337d-dd2e-4449-b928-9a63deb23423",
   "metadata": {},
   "outputs": [],
   "source": [
    "class PLL:\n",
    "    def __init__(self, wc: float, phase_gain: float, freq_gain: float, sf=None):\n",
    "        self.wc = 2 * np.pi * wc / sf if sf else wc\n",
    "        self.pg, self.fg = phase_gain, freq_gain\n",
    "        self.freq_offset = 0\n",
    "        self.nco_phase = 0\n",
    "\n",
    "    def track(self, x: np.ndarray, ) -> np.ndarray:\n",
    "        y = np.zeros(len(x))\n",
    "        c = np.zeros(len(x))\n",
    "        for n in range(0, len(x)):\n",
    "            y[n] = np.cos(self.nco_phase)\n",
    "            phase_offset = -x[n] * np.sin(self.nco_phase)\n",
    "            self.freq_offset += self.fg * phase_offset\n",
    "            c[n] = self.pg * phase_offset + self.freq_offset\n",
    "            self.nco_phase += self.wc + c[n]\n",
    "            # wrap the phase over the [0, 2\\pi] interval\n",
    "            self.nco_phase = (self.nco_phase + np.pi) % (2 * np.pi) - np.pi\n",
    "        return y, c"
   ]
  },
  {
   "cell_type": "markdown",
   "id": "b2630814-4956-4400-97aa-73b156c5a7c1",
   "metadata": {},
   "source": [
    "This utility function allows us to easily test the behavior of the PLL as in the examples that follow"
   ]
  },
  {
   "cell_type": "code",
   "execution_count": 42,
   "id": "1bffd9f7-88c0-4eb3-8d1a-8f5db429d46c",
   "metadata": {},
   "outputs": [],
   "source": [
    "def test_PLL(phase_gain, freq_gain, wc=0.42, phase_shift=0, freq_err_perc=0, N=2500, M=200, show_error=False):\n",
    "    # default test frequency is 2\\pi / 15\n",
    "    x = np.sin((1 + freq_err_perc / 100) * wc * np.arange(0, N) + phase_shift)\n",
    "    y, c = PLL(wc, phase_gain, freq_gain).track(x)\n",
    "    \n",
    "    plt.plot(np.arange(N-M, N), x[-M:], 'C0', label='input')    \n",
    "    plt.plot(np.arange(N-M, N), y[-M:], 'C1', label='output')\n",
    "    if show_error:\n",
    "        plt.plot(np.arange(N-M, N), 0.5 * (x-y)[-M:], 'C3', label='error')\n",
    "    plt.plot(np.arange(N-M, N), 10 * c[-M:], 'C2:', label='control')\n",
    "    plt.legend(loc=\"lower right\")"
   ]
  },
  {
   "cell_type": "markdown",
   "id": "50e11bc1-71e2-4cd9-adf4-708e544a8561",
   "metadata": {},
   "source": [
    "### Open loop\n",
    "\n",
    "With both gains set to zero, the PLL's output is simply a sinusoid at PLL's nominal frequency. Here the input has an initial phase offset and a 1% frequency deviation and it's clear that input and output are moving independently "
   ]
  },
  {
   "cell_type": "code",
   "execution_count": 44,
   "id": "ce3c660d-abfc-453e-837b-7e42bb31a6a3",
   "metadata": {
    "jupyter": {
     "source_hidden": true
    }
   },
   "outputs": [],
   "source": [
    "test_PLL(phase_gain=0, freq_gain=0, phase_shift=1, freq_err_perc=2, N=200, M=200)"
   ]
  },
  {
   "cell_type": "markdown",
   "id": "cad9c3ca-871c-4c9f-be61-5872715ffa4e",
   "metadata": {},
   "source": [
    "### Phase offset compensation\n",
    "\n",
    "Here the input has an initial phase offset and no frequency deviation; only the phase gain is nonzero and the PLL over time gets in lock with the input"
   ]
  },
  {
   "cell_type": "code",
   "execution_count": 46,
   "id": "37ba5212-bb20-4d74-84c6-b5bdb867537d",
   "metadata": {},
   "outputs": [],
   "source": [
    "test_PLL(phase_gain=0.01, freq_gain=0, phase_shift=1, freq_err_perc=0, N=200, M=200)"
   ]
  },
  {
   "cell_type": "markdown",
   "id": "5061ed43-411e-441b-8f47-b567f8decbcf",
   "metadata": {},
   "source": [
    "We can see the rate of convergence more clearly over a longer time span"
   ]
  },
  {
   "cell_type": "code",
   "execution_count": 48,
   "id": "80428db6-0f4b-41ca-a695-c0d9d42a1a7d",
   "metadata": {},
   "outputs": [],
   "source": [
    "test_PLL(phase_gain=0.01, freq_gain=0, phase_shift=1, freq_err_perc=0, N=1000, M=1000, show_error=True)"
   ]
  },
  {
   "cell_type": "markdown",
   "id": "f0d18f79-4180-464c-9da2-3a069a0162fa",
   "metadata": {},
   "source": [
    "### Frequency deviations\n",
    "\n",
    "Here the input has an initial phase offset and a 5% frequency deviation; with the frequency gain set to zero the PLL cannot get a lock"
   ]
  },
  {
   "cell_type": "code",
   "execution_count": 50,
   "id": "2d2e4ff6-cbf4-43e3-8058-4474b24fc2ca",
   "metadata": {},
   "outputs": [],
   "source": [
    "test_PLL(phase_gain=0.01, freq_gain=0, phase_shift=1, freq_err_perc=5, M=800, show_error=True)"
   ]
  },
  {
   "cell_type": "markdown",
   "id": "c29f5ffd-592a-4538-bb81-97c1b1a00bb3",
   "metadata": {},
   "source": [
    "By setting the frequency gain $G_f$ to a positive value we can get the PLL to lock over a range of input frequencies"
   ]
  },
  {
   "cell_type": "code",
   "execution_count": 52,
   "id": "7557be33-0e9f-4ef0-b70e-fb5d7c09bc6f",
   "metadata": {},
   "outputs": [],
   "source": [
    "test_PLL(phase_gain=0.01, freq_gain=0.002, phase_shift=1, freq_err_perc=5, N=1000, M=1000, show_error=True)"
   ]
  },
  {
   "cell_type": "markdown",
   "id": "bbf053a6-6fac-4d2d-a387-7a5cd6a97e40",
   "metadata": {},
   "source": [
    "The PLL's lock range is determined by the value of $G_f$; in this example, the input frequency has become too large (35% deviation) and the PLL cannot lock"
   ]
  },
  {
   "cell_type": "code",
   "execution_count": 54,
   "id": "2a5e3b00-2648-4bc7-9dbe-75429029a057",
   "metadata": {
    "editable": true,
    "slideshow": {
     "slide_type": ""
    },
    "tags": []
   },
   "outputs": [],
   "source": [
    "test_PLL(phase_gain=0.01, freq_gain=0.002, phase_shift=1, freq_err_perc=35, M=200)"
   ]
  },
  {
   "cell_type": "markdown",
   "id": "aefdbd84-bfe9-43e6-a62c-6c7c5b93a190",
   "metadata": {},
   "source": [
    "We can increase the lock range by increasing $G_f$ even more and get the PLL to work also in this case"
   ]
  },
  {
   "cell_type": "code",
   "execution_count": 56,
   "id": "71d73bbf",
   "metadata": {},
   "outputs": [],
   "source": [
    "test_PLL(phase_gain=0.01, freq_gain=0.02, phase_shift=1, freq_err_perc=35, M=200, show_error=True)"
   ]
  },
  {
   "cell_type": "markdown",
   "id": "40490c8e-e8fc-4fea-b9cb-924f542c7af6",
   "metadata": {},
   "source": [
    "But a large value for $G_f$ may create problems at low nominal frequencies: the increased gain makes the loop filter too sensitive to the phase estimation error and, as a consequence, the NCO will be slowed down when the input is small (zero crossings) and accelerate when the input peaks:"
   ]
  },
  {
   "cell_type": "code",
   "execution_count": 58,
   "id": "62819e22-9d51-4f1a-bd51-96cb02fd204d",
   "metadata": {},
   "outputs": [],
   "source": [
    "w_slow = 2 * np.pi / 55\n",
    "test_PLL(wc=w_slow, phase_gain=0.01, freq_gain=0.02, phase_shift=1, freq_err_perc=0, M=400, show_error=True)"
   ]
  },
  {
   "cell_type": "markdown",
   "id": "9df9e0cd-d83e-4d1a-a65b-7e7a27ed34cd",
   "metadata": {},
   "source": [
    "Reducing the frequency gain fixes the problem: bottom line, choosing the right gain values can be rather tricky and there is always a tradeoff somewhere!"
   ]
  },
  {
   "cell_type": "code",
   "execution_count": 60,
   "id": "a8108f64-bc1e-4c94-ac11-2b9076de0233",
   "metadata": {},
   "outputs": [],
   "source": [
    "test_PLL(wc=w_slow, phase_gain=0.01, freq_gain=0.002, phase_shift=1, freq_err_perc=0, M=400, show_error=True)"
   ]
  },
  {
   "cell_type": "markdown",
   "id": "f8f8e2c7-4293-4852-a386-03b46fbd0858",
   "metadata": {},
   "source": [
    "# Synchronization using PLLs\n",
    "\n",
    "PLL's are very good at detecting sinusoids buried in noise and are thus ideal candidates to improve our synchronization mechanism based on phase reversals in a pilot tone."
   ]
  },
  {
   "cell_type": "markdown",
   "id": "2fb97f11-be08-4587-b298-7d170e4faafa",
   "metadata": {},
   "source": [
    "## Tone detection\n",
    "\n",
    "To see if a PLL is in lock with its sinusoidal input, we can look at the local average of the product between the PLL's input and its output:\n",
    "\n",
    " * if the PLL is in lock, input and output are always in phase and so their product will always be positive, leading to a positive average value\n",
    " * if the PLL is not in lock, the average of the product will be negative or zero.\n",
    "\n",
    "The following function sets up a PLL at the tone frequency using a relatively small frequency gain for a narrow lock range. The input-output cross product is averaged via a biquad lowpass; to align the detection signal with the input we must compensate for the processing delay introduced by the lowpass, which we can do by first computing its group delay in zero."
   ]
  },
  {
   "cell_type": "code",
   "execution_count": 63,
   "id": "515199e0-9490-48b0-b83a-02643e9804cc",
   "metadata": {},
   "outputs": [],
   "source": [
    "class ToneDetector(PLL):\n",
    "    def __init__(self, wc, phase_gain=0.06, freq_gain=0.0001, smooth=0.99, sf=None):\n",
    "        super(ToneDetector, self).__init__(wc, phase_gain, freq_gain, sf=sf)\n",
    "        self.smoother = LPF(1 - smooth, 2)\n",
    "        # group delay in zero is the derivative of the phase response in zero\n",
    "        self.delay = int(sp.group_delay(self.smoother, w=[0], fs=2)[1][0])\n",
    "\n",
    "    def reveal(self, x):\n",
    "        y, c = self.track(x)\n",
    "        r = sp.lfilter(*self.smoother, y * x)\n",
    "        return np.r_[ r[self.delay:], np.zeros(self.delay) ]\n",
    "\n",
    "    def detect(self, x, threshold=0.1):\n",
    "        return self.reveal(x) > threshold"
   ]
  },
  {
   "cell_type": "code",
   "execution_count": 64,
   "id": "4e9c1bb0-ce32-45bd-a05d-5b8a5dd7b9b5",
   "metadata": {},
   "outputs": [],
   "source": [
    "detector = ToneDetector(pilot_freq, sf=Fs)"
   ]
  },
  {
   "cell_type": "markdown",
   "id": "8ae4bb10-9c62-460a-84da-d9f845698fd0",
   "metadata": {},
   "source": [
    "Here we test the tone detector on a clean tone, a noisy tone, and a clean tone at the wrong frequency. Note how the PLL has little trouble achieving lock even when the signal to noise ratio is very low (zero dB in this example); this robustness to noise (which is inversely related to the lock range) makes PLL's ideal devices for signal detection."
   ]
  },
  {
   "cell_type": "code",
   "execution_count": 66,
   "id": "ed65fdb4-6fe2-4e79-9a7f-5fcd43a6ceee",
   "metadata": {},
   "outputs": [],
   "source": [
    "gap = np.zeros(int(Fs * 0.005))\n",
    "x = np.r_[gap, \n",
    "    sync_signal(0.01, rev_point=0), gap, \n",
    "    sync_signal(0.01, SNR=0, rev_point=0), gap, \n",
    "    sync_signal(0.01, freq_Hz=(0.5 * pilot_freq), rev_point=0), gap\n",
    "]\n",
    "plt.plot(x);\n",
    "plt.plot(detector.reveal(x));\n",
    "plt.plot(detector.detect(x), 'C3');"
   ]
  },
  {
   "cell_type": "markdown",
   "id": "ddc2df3f-139d-4ca9-aff8-7e90a0751566",
   "metadata": {},
   "source": [
    "## Phase reversal detection\n",
    "\n",
    "If a PLL in lock state encounters a phase reversal in the input signal, its output signal will remain out of sync with the input until the new phase offset has been compensated for; the duration of this out-of-lock interval will depend on the value of the phase gain $G_p$. "
   ]
  },
  {
   "cell_type": "code",
   "execution_count": 68,
   "id": "77927d1e",
   "metadata": {},
   "outputs": [],
   "source": [
    "sync = sync_signal(0.05)\n",
    "plt.plot(sync);\n",
    "plt.plot(detector.reveal(sync));\n",
    "plt.plot(detector.detect(sync), 'C3');"
   ]
  },
  {
   "cell_type": "markdown",
   "id": "1b772666-61f2-4a25-9241-77a9edc4d952",
   "metadata": {},
   "source": [
    "We can take advantage of this phenomenon to build a robust phase reversal detector as in the following function. Note that by choosing a small value for the frequency gain $G_f$, the resulting narrow lock range automatically provides excellent noise rejection and no bandpass filtering is needed prior to detection. In the following examples, the phase reversal is correctly detected at an SNR of zero dB even when the pilot frequency deviates non-negligibly from its nominal value."
   ]
  },
  {
   "cell_type": "code",
   "execution_count": 70,
   "id": "964b8c06-b67f-4d56-b67d-97748c6c4393",
   "metadata": {},
   "outputs": [],
   "source": [
    "def PLL_show_pr(x, threshold=0.1, pilot_freq_Hz=2000, sf=32000):\n",
    "    plt.plot(x);\n",
    "    plt.plot(ToneDetector(pilot_freq_Hz, sf=sf).detect(x, threshold), 'C3');"
   ]
  },
  {
   "cell_type": "code",
   "execution_count": 71,
   "id": "4af5b3ab",
   "metadata": {},
   "outputs": [],
   "source": [
    "PLL_show_pr(sync_signal(0.05))"
   ]
  },
  {
   "cell_type": "code",
   "execution_count": 72,
   "id": "33ab5867",
   "metadata": {},
   "outputs": [],
   "source": [
    "PLL_show_pr(sync_signal(0.05, SNR=0))"
   ]
  },
  {
   "cell_type": "code",
   "execution_count": 73,
   "id": "01c05fa1",
   "metadata": {},
   "outputs": [],
   "source": [
    "PLL_show_pr(sync_signal(0.05, SNR=0, freq_err_perc=4))"
   ]
  },
  {
   "cell_type": "markdown",
   "id": "92887c7e-e50e-4e69-b9c9-1e6618127197",
   "metadata": {},
   "source": [
    "## Automatic Gain Control"
   ]
  },
  {
   "cell_type": "markdown",
   "id": "73c097c1-bf76-446f-a816-ba840457dd50",
   "metadata": {
    "editable": true,
    "slideshow": {
     "slide_type": ""
    },
    "tags": []
   },
   "source": [
    "The phase reversal detector that we just developed uses a fixed threshold whose value works as long as the incoming pilot signal has unit amplitude (or, alternatively, as long as its average power is equal to 1/2). When this is not the case, detection will fail:"
   ]
  },
  {
   "cell_type": "code",
   "execution_count": 76,
   "id": "cce80da0-70fe-420a-84a1-aa0ef1e1db7d",
   "metadata": {
    "editable": true,
    "slideshow": {
     "slide_type": ""
    },
    "tags": []
   },
   "outputs": [],
   "source": [
    "sync_att = sync_signal(0.05, SNR=10) / 10"
   ]
  },
  {
   "cell_type": "code",
   "execution_count": 77,
   "id": "185938f6-60ea-405c-8456-6d41e4acf467",
   "metadata": {
    "editable": true,
    "slideshow": {
     "slide_type": ""
    },
    "tags": []
   },
   "outputs": [],
   "source": [
    "PLL_show_pr(sync_att)"
   ]
  },
  {
   "cell_type": "markdown",
   "id": "f64c98bf-4c4b-4d89-8746-307b1feff4b4",
   "metadata": {
    "editable": true,
    "slideshow": {
     "slide_type": ""
    },
    "tags": []
   },
   "source": [
    "To combat this problem, a practical system will use an Automatic Gain Control module to bring the power of the incoming signal to the expected level. An AGC is an adaptive circuit with the following structure:\n",
    "\n",
    "<div style=\"margin: 0;\"><img src=\"img/AGC.png\" width=\"600\"></div>\n",
    "\n",
    "\n",
    "At each \"time\" instant $n$:\n",
    "  * the incoming sample is multiplied by a gain factor $a[n]$ to produce the output sample $y[n] = a[n]x[n]$\n",
    "  * a leaky integrator uses $y[n]$ to update a running estimate of the power of the gain-adjusted signal\n",
    "  * the power estimate is compared to the desired power level and the (positive or negative) difference is time-averaged by another integrator to update the gain factor"
   ]
  },
  {
   "cell_type": "code",
   "execution_count": 79,
   "id": "1b380e2f-050b-49d8-85cf-d59486ab7deb",
   "metadata": {},
   "outputs": [],
   "source": [
    "class AGC:\n",
    "    def __init__(self, target_power=0.5, alpha=0.01, li_tc=0.995):\n",
    "        self.agc, self.max_agc = 1, 50\n",
    "        self.target = target_power\n",
    "        self.avg_power = 0\n",
    "        self.alpha = alpha\n",
    "        self.li = li_tc\n",
    "        \n",
    "    def set_speed(self, alpha):\n",
    "        self.alpha = alpha\n",
    "\n",
    "    def rescale(self, x):\n",
    "        y = np.zeros(len(x))\n",
    "        agc = np.zeros(len(x))\n",
    "        for n in range(0, len(x)):\n",
    "            agc[n] = self.agc\n",
    "            y[n] = x[n] * self.agc\n",
    "            self.avg_power = self.li * self.avg_power + (1 - self.li) * y[n] * y[n]\n",
    "            self.agc += self.alpha * (self.target - self.avg_power)\n",
    "            self.agc = max(0, min(self.agc, self.max_agc))\n",
    "        return y, agc"
   ]
  },
  {
   "cell_type": "code",
   "execution_count": 80,
   "id": "7a4a8d0b-9cae-4712-afe1-b333b172bb47",
   "metadata": {},
   "outputs": [],
   "source": [
    "sync_agc, agc = AGC().rescale(sync_att)\n",
    "plt.plot(sync_agc, 'C1');\n",
    "plt.plot(sync_att, 'C0');\n",
    "plt.plot(agc / 10, 'C2');"
   ]
  },
  {
   "cell_type": "markdown",
   "id": "4e86216c-5bbf-4447-829c-c1238a5f1b4e",
   "metadata": {},
   "source": [
    "With this, our phase reversal detector works also with attenuated inputs, provided the pilot tone is long enough for the AGC to converge before the phase reversal occurs."
   ]
  },
  {
   "cell_type": "code",
   "execution_count": 82,
   "id": "25900bd0",
   "metadata": {
    "scrolled": true
   },
   "outputs": [],
   "source": [
    "PLL_show_pr(AGC().rescale(sync_att)[0])"
   ]
  },
  {
   "cell_type": "markdown",
   "id": "337a04ec-b1ad-4070-9154-bb8bd29ca951",
   "metadata": {},
   "source": [
    "# Exercise 1: a PLL for square waves\n",
    "\n",
    "In the following exercise you are asked to develop a PLL that can operate on square waves instead of sinusoids. Here are some pointers to get you started:\n",
    "\n",
    " * the structure of the PLL will remain the same\n",
    " * you should modify the NCO so that it produces a square wave instead of a sinusoid; this only requires to change the function $p(\\cdot)$ applied to the NCO's phase; for your convenience, below is an implementation that works like a standard trigonometric funcion and returns a balanced, symmetric, $2\\pi$-periodic square wave\n",
    " * the critical part will be the phase offset estimator; because of the discontinuous and piecewise-constant shape of a square wave, you won't be able to use a simple multiplication-based estimator. You will need to look at the rising and falling edges of input and output to determine their relative alignment\n",
    " * the loop filter will remain the same, but the numerical values of $G_p$ and $G_f$ will probably change with respect to the sinusoidal PLL."
   ]
  },
  {
   "cell_type": "code",
   "execution_count": 84,
   "id": "e9773462-711d-44a8-86b3-88ac30e345d6",
   "metadata": {},
   "outputs": [],
   "source": [
    "def sqw(w):\n",
    "    # square wave function that works on both scalars and numpy arrays\n",
    "    w = np.asarray(w)\n",
    "    scalar_input = w.ndim == 0\n",
    "    if scalar_input:\n",
    "        w = w[np.newaxis]\n",
    "\n",
    "    # in theory we could just\n",
    "    x = np.sin(w)\n",
    "    zc = np.isclose(x, 0, atol=1e-10)\n",
    "    x[zc] = np.cos(w[zc])\n",
    "    x = np.sign(x)\n",
    "\n",
    "    return np.squeeze(x) if scalar_input else x"
   ]
  },
  {
   "cell_type": "code",
   "execution_count": 85,
   "id": "cc86a295-2edb-46ef-b9ea-d168ddc77bac",
   "metadata": {},
   "outputs": [],
   "source": [
    "plt.stem(sqw(2 * np.pi / 12 * np.arange(0, 50)));"
   ]
  },
  {
   "cell_type": "code",
   "execution_count": 86,
   "id": "ca77c35f-6061-4772-8ac8-8f63badc83c2",
   "metadata": {
    "editable": true,
    "slideshow": {
     "slide_type": ""
    },
    "tags": []
   },
   "outputs": [],
   "source": [
    "class SQPLL:\n",
    "    def __init__(self, wc: float, phase_gain: float, freq_gain: float, sf=None):\n",
    "        self.wc = 2 * np.pi * wc / sf if sf else wc\n",
    "        self.gp, self.gi = phase_gain * self.wc, freq_gain\n",
    "        self.freq_offset = 0\n",
    "        self.nco_phase = 0\n",
    "\n",
    "    def track(self, x):\n",
    "        y = np.zeros(len(x))\n",
    "        c = np.zeros(len(x))\n",
    "        \n",
    "        # your code here...\n",
    "        \n",
    "        return y, c"
   ]
  },
  {
   "cell_type": "markdown",
   "id": "5a530476-4034-46b9-8995-1e50490f5dd4",
   "metadata": {
    "editable": true,
    "slideshow": {
     "slide_type": ""
    },
    "tags": []
   },
   "source": [
    "Testing time!"
   ]
  },
  {
   "cell_type": "code",
   "execution_count": 89,
   "id": "65ebaded-530e-4c9a-a267-e578e80586dd",
   "metadata": {
    "editable": true,
    "slideshow": {
     "slide_type": ""
    },
    "tags": []
   },
   "outputs": [],
   "source": [
    "def test_SQPLL(phase_gain, freq_gain, wc=0.35, phase_shift=0, freq_err_perc=0, noise=0, N=2500, M=200, show_error=False):\n",
    "    x = sqw((1 + freq_err_perc / 100) * wc * np.arange(0, N) + phase_shift) + noise * (np.random.rand(N) - 0.5)\n",
    "    y, c = SQPLL(wc, phase_gain, freq_gain).track(x)\n",
    "    \n",
    "    plt.plot(np.arange(N-M, N), x[-M:], 'C0', label='input')    \n",
    "    plt.plot(np.arange(N-M, N), y[-M:], 'C1', label='output')\n",
    "    if show_error:\n",
    "        plt.plot(np.arange(N-M, N), 0.5 * (x-y)[-M:], 'C3', label='error')\n",
    "    plt.plot(np.arange(N-M, N), 10 * c[-M:], 'C2:', label='control')\n",
    "    plt.legend(loc=\"lower right\")"
   ]
  },
  {
   "cell_type": "code",
   "execution_count": 90,
   "id": "6aa420c8-2a61-46e0-8402-7a75799fade8",
   "metadata": {
    "editable": true,
    "slideshow": {
     "slide_type": ""
    },
    "tags": []
   },
   "outputs": [],
   "source": [
    "# Phase offset compensation\n",
    "test_SQPLL(phase_gain=0.05, freq_gain=0, phase_shift=7, freq_err_perc=0, N=300, M=300)"
   ]
  },
  {
   "cell_type": "code",
   "execution_count": 91,
   "id": "e137a94f-b8e9-42db-a5b0-82cffb2709c4",
   "metadata": {
    "editable": true,
    "slideshow": {
     "slide_type": ""
    },
    "tags": []
   },
   "outputs": [],
   "source": [
    "# Phase offset compensation\n",
    "test_SQPLL(phase_gain=0.05, freq_gain=0, phase_shift=7, freq_err_perc=0, N=5000, M=5000, show_error=True)"
   ]
  },
  {
   "cell_type": "code",
   "execution_count": 92,
   "id": "c90172fa-2552-48c1-bb28-cb66f4a94e0a",
   "metadata": {
    "editable": true,
    "slideshow": {
     "slide_type": ""
    },
    "tags": []
   },
   "outputs": [],
   "source": [
    "# frequency compensation\n",
    "test_SQPLL(phase_gain=0.1, freq_gain=0.0005, phase_shift=7, freq_err_perc=5, N=300, M=300)#, show_error=True)"
   ]
  },
  {
   "cell_type": "code",
   "execution_count": 93,
   "id": "08ca40e0-b311-4c26-872b-d07d3db86284",
   "metadata": {
    "editable": true,
    "slideshow": {
     "slide_type": ""
    },
    "tags": []
   },
   "outputs": [],
   "source": [
    "# frequency compensation\n",
    "test_SQPLL(phase_gain=0.1, freq_gain=0.0005, phase_shift=7, freq_err_perc=5, N=4000, M=4000, show_error=True)"
   ]
  },
  {
   "cell_type": "code",
   "execution_count": 94,
   "id": "e8bbd611-19b6-4d78-a621-2ccae6726f9d",
   "metadata": {
    "editable": true,
    "slideshow": {
     "slide_type": ""
    },
    "tags": []
   },
   "outputs": [],
   "source": [
    "# performance in noise\n",
    "test_SQPLL(phase_gain=0.1, freq_gain=0.0005, phase_shift=7, freq_err_perc=5, N=4000, M=300, noise=1)"
   ]
  },
  {
   "cell_type": "markdown",
   "id": "dcc09279-1115-44c9-9984-160234f520f7",
   "metadata": {
    "editable": true,
    "slideshow": {
     "slide_type": ""
    },
    "tags": []
   },
   "source": [
    "# Exercise 2: an FM radio receiver\n",
    "\n",
    "In our previous discussion we mentioned that FM modulation can be easily implemented with a NCO. Interestingly, an FM signal can be equally easily demodulated using a single PLL with a narrow lock range around the FM carrier frequency.\n",
    "\n",
    "The following signal contains an FM-modulated music excerpt with the following characteristics:\n",
    "\n",
    "  * the signal is sampled at 96 kHz\n",
    "  * the original music sample, before modulation, was bandlimited to 8 kHz\n",
    "  * the FM carrier frequency is 38 kHz"
   ]
  },
  {
   "cell_type": "code",
   "execution_count": 96,
   "id": "84b0924c-8288-4e6d-8bb5-8fe005aec227",
   "metadata": {
    "editable": true,
    "slideshow": {
     "slide_type": ""
    },
    "tags": []
   },
   "outputs": [],
   "source": [
    "fm_sf, fm_signal = wavfile.read(\"data/fm.wav\")\n",
    "print(f'signal sampled at {fm_sf} Hz')"
   ]
  },
  {
   "cell_type": "markdown",
   "id": "1f4c7ca8-5662-4dc4-bdf4-6295f0842524",
   "metadata": {
    "editable": true,
    "slideshow": {
     "slide_type": ""
    },
    "tags": []
   },
   "source": [
    "If you play the FM signal you won't hear anything because all the information is now placed outside of hearing range. You can however verify that the signal contains energy in a frequency region centered around the FM carrier"
   ]
  },
  {
   "cell_type": "code",
   "execution_count": 98,
   "id": "a773a221-481d-418c-9b99-8da4d84e71f2",
   "metadata": {
    "editable": true,
    "slideshow": {
     "slide_type": ""
    },
    "tags": []
   },
   "outputs": [],
   "source": [
    "IPython.display.Audio(fm_signal, rate=fm_sf)"
   ]
  },
  {
   "cell_type": "code",
   "execution_count": 99,
   "id": "72a728ce-057d-469d-b35c-8dcda9230ea9",
   "metadata": {
    "editable": true,
    "slideshow": {
     "slide_type": ""
    },
    "tags": []
   },
   "outputs": [],
   "source": [
    "plot_mag_spec(fm_signal, Fs=fm_sf)"
   ]
  },
  {
   "cell_type": "markdown",
   "id": "88165d5f-4a14-4962-96eb-b9d0338fc1ac",
   "metadata": {
    "editable": true,
    "slideshow": {
     "slide_type": ""
    },
    "tags": []
   },
   "source": [
    "Can you use a PLL to demodulate the FM signal and listen to the audio sample?"
   ]
  }
 ],
 "metadata": {
  "kernelspec": {
   "display_name": "Python 3 (ipykernel)",
   "language": "python",
   "name": "python3"
  },
  "language_info": {
   "codemirror_mode": {
    "name": "ipython",
    "version": 3
   },
   "file_extension": ".py",
   "mimetype": "text/x-python",
   "name": "python",
   "nbconvert_exporter": "python",
   "pygments_lexer": "ipython3",
   "version": "3.12.3"
  }
 },
 "nbformat": 4,
 "nbformat_minor": 5
}
